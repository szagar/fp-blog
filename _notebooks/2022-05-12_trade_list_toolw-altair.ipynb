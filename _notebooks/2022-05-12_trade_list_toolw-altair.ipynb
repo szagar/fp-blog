{
 "cells": [
  {
   "cell_type": "code",
   "execution_count": 1,
   "id": "cc73d34a-b9ec-4007-bc37-431916fc5353",
   "metadata": {},
   "outputs": [],
   "source": [
    "%load_ext autoreload\n",
    "%autoreload 2"
   ]
  },
  {
   "cell_type": "code",
   "execution_count": 2,
   "id": "051a6467-7b17-409d-a55e-bce858558c4c",
   "metadata": {},
   "outputs": [],
   "source": [
    "import altair"
   ]
  },
  {
   "cell_type": "code",
   "execution_count": 3,
   "id": "d9376860-d237-455b-9d47-391a0936e00c",
   "metadata": {
    "tags": []
   },
   "outputs": [],
   "source": [
    "from trade_list_tools import TradeListTools"
   ]
  },
  {
   "cell_type": "code",
   "execution_count": 4,
   "id": "d00fc4fb-e000-454c-a84a-b2c1951dccf3",
   "metadata": {
    "tags": []
   },
   "outputs": [],
   "source": [
    "import glob\n",
    "from IPython.display import clear_output"
   ]
  },
  {
   "cell_type": "code",
   "execution_count": null,
   "id": "af333969-4326-46a8-9456-2ae98973b937",
   "metadata": {},
   "outputs": [],
   "source": [
    "!ls -ltr /Users/szagar/work/zts/bta_data_dev/ts_data/backtests/trades/s5094_bt15619_@MES_bpv5.csv"
   ]
  },
  {
   "cell_type": "code",
   "execution_count": 5,
   "id": "98c2b3ab-29bd-4df3-a9e5-ae842cf9c498",
   "metadata": {
    "tags": []
   },
   "outputs": [],
   "source": [
    "tlt = TradeListTools()\n",
    "cnt = 0\n",
    "for fn in glob.glob('/Users/szagar/work/zts/bta_data_dev/ts_data/backtests/trades/*bpv*.csv'):\n",
    "    cnt += 1\n",
    "    print(fn)\n",
    "    df = tlt.load_trades(fn)\n",
    "    #tlt.info()\n",
    "    df[['cum_pnl','max_pnl']].plot(figsize=(8,4))\n",
    "    plt.text(100,100,'sample text')\n",
    "    plt.show()\n",
    "    inp = input('hit enter')\n",
    "    clear_output(wait=True)\n",
    "    if cnt == 5:\n",
    "        break"
   ]
  },
  {
   "cell_type": "code",
   "execution_count": null,
   "id": "2f27f027-0ac6-42e3-bfc6-67bc62d1904c",
   "metadata": {},
   "outputs": [],
   "source": [
    "#Import tkinter library\n",
    "from tkinter import *\n",
    "#Create an instance of Tkinter frame or window\n",
    "win= Tk()\n",
    "#Set the geometry of tkinter frame\n",
    "win.geometry(\"750x250\")\n",
    "def callback():\n",
    "   Label(win, text=\"Hello World!\", font=('Century 20 bold')).pack(pady=4)\n",
    "#Create a Label and a Button widget\n",
    "btn=Button(win, text=\"Press Enter\", command= callback)\n",
    "btn.pack(ipadx=10)\n",
    "win.bind('<Return>',lambda event:callback())\n",
    "win.mainloop()"
   ]
  },
  {
   "cell_type": "code",
   "execution_count": 41,
   "id": "b0df3dad-52d3-4117-9927-5260042a1601",
   "metadata": {},
   "outputs": [
    {
     "name": "stdout",
     "output_type": "stream",
     "text": [
      "total 106480\n",
      "-rw-r--r--  1 szagar  staff  4472584 Apr 22 06:44 @EC.csv\n",
      "-rw-r--r--  1 szagar  staff  4505479 Apr 18 08:52 @MNQ.csv\n",
      "-rw-r--r--  1 szagar  staff  3992285 Apr 18 08:50 @CL.csv\n",
      "-rw-r--r--  1 szagar  staff  4506759 Apr 18 08:49 @NQ.csv\n",
      "-rw-r--r--  1 szagar  staff  4091690 Apr 18 08:47 @EMD.csv\n",
      "-rw-r--r--  1 szagar  staff  4301890 Apr 18 08:42 @QM.csv\n",
      "-rw-r--r--  1 szagar  staff  4418386 Apr 18 08:40 @ES.csv\n",
      "-rw-r--r--  1 szagar  staff  3777949 Apr 13 21:38 @YM.csv\n",
      "-rw-r--r--  1 szagar  staff  4166280 Apr  6 13:55 @GC.csv\n",
      "-rw-r--r--  1 szagar  staff  3777843 Apr  4 22:36 @MYM.csv\n",
      "-rw-r--r--  1 szagar  staff  4417057 Mar 30 06:31 @MES.csv\n",
      "-rw-r--r--  1 szagar  staff  4158997 Mar 27 10:23 @M2K.csv\n",
      "-rw-r--r--  1 szagar  staff  3906149 Mar 26 13:57 @NG.csv\n"
     ]
    }
   ],
   "source": [
    "trades_file = '/Users/szagar/work/zts/bta_data_dev/ts_data/backtests/BOS_613_MAE@NQ_bpv20_trades.csv'\n",
    "bars_file = '/Users/szagar/work/zts/bta_data_dev/ts_data/bars/@NQ.csv'\n",
    "\n",
    "!ls -lt /Users/szagar/work/zts/bta_data_dev/ts_data/bars"
   ]
  },
  {
   "cell_type": "code",
   "execution_count": 42,
   "id": "837d10a2-e62c-4c9b-90ab-56434a59caab",
   "metadata": {},
   "outputs": [],
   "source": [
    "tlt = TradeListTools()"
   ]
  },
  {
   "cell_type": "markdown",
   "id": "c3bb5e21-3204-46d8-8add-61d6bb440c14",
   "metadata": {},
   "source": [
    "### Load trades"
   ]
  },
  {
   "cell_type": "code",
   "execution_count": 43,
   "id": "5d9208c9-8c11-4d83-824b-74fd7376b4a1",
   "metadata": {
    "tags": []
   },
   "outputs": [
    {
     "data": {
      "text/html": [
       "<pre style=\"white-space:pre;overflow-x:auto;line-height:normal;font-family:Menlo,'DejaVu Sans Mono',consolas,'Courier New',monospace\">r1            = <span style=\"color: #008080; text-decoration-color: #008080; font-weight: bold\">8860.0</span>  <span style=\"font-weight: bold\">(</span>MaxLoss100<span style=\"font-weight: bold\">)</span>\n",
       "</pre>\n"
      ],
      "text/plain": [
       "r1            = \u001b[1;36m8860.0\u001b[0m  \u001b[1m(\u001b[0mMaxLoss100\u001b[1m)\u001b[0m\n"
      ]
     },
     "metadata": {},
     "output_type": "display_data"
    },
    {
     "data": {
      "text/html": [
       "<pre style=\"white-space:pre;overflow-x:auto;line-height:normal;font-family:Menlo,'DejaVu Sans Mono',consolas,'Courier New',monospace\">pnt_mulipler  = <span style=\"color: #008080; text-decoration-color: #008080; font-weight: bold\">20.0</span>\n",
       "</pre>\n"
      ],
      "text/plain": [
       "pnt_mulipler  = \u001b[1;36m20.0\u001b[0m\n"
      ]
     },
     "metadata": {},
     "output_type": "display_data"
    },
    {
     "data": {
      "text/html": [
       "<pre style=\"white-space:pre;overflow-x:auto;line-height:normal;font-family:Menlo,'DejaVu Sans Mono',consolas,'Courier New',monospace\">net profit     = <span style=\"color: #008080; text-decoration-color: #008080; font-weight: bold\">52</span>,<span style=\"color: #008080; text-decoration-color: #008080; font-weight: bold\">985.0</span>\n",
       "</pre>\n"
      ],
      "text/plain": [
       "net profit     = \u001b[1;36m52\u001b[0m,\u001b[1;36m985.0\u001b[0m\n"
      ]
     },
     "metadata": {},
     "output_type": "display_data"
    },
    {
     "data": {
      "text/html": [
       "<pre style=\"white-space:pre;overflow-x:auto;line-height:normal;font-family:Menlo,'DejaVu Sans Mono',consolas,'Courier New',monospace\">profit factor  = <span style=\"color: #008080; text-decoration-color: #008080; font-weight: bold\">1.25</span>\n",
       "</pre>\n"
      ],
      "text/plain": [
       "profit factor  = \u001b[1;36m1.25\u001b[0m\n"
      ]
     },
     "metadata": {},
     "output_type": "display_data"
    },
    {
     "data": {
      "text/html": [
       "<pre style=\"white-space:pre;overflow-x:auto;line-height:normal;font-family:Menlo,'DejaVu Sans Mono',consolas,'Courier New',monospace\">win percent    = <span style=\"color: #008080; text-decoration-color: #008080; font-weight: bold\">56.55</span>\n",
       "</pre>\n"
      ],
      "text/plain": [
       "win percent    = \u001b[1;36m56.55\u001b[0m\n"
      ]
     },
     "metadata": {},
     "output_type": "display_data"
    },
    {
     "data": {
      "text/html": [
       "<pre style=\"white-space:pre;overflow-x:auto;line-height:normal;font-family:Menlo,'DejaVu Sans Mono',consolas,'Courier New',monospace\"><span style=\"color: #800080; text-decoration-color: #800080; font-weight: bold\">expectancy</span><span style=\"font-weight: bold\">(</span>R<span style=\"font-weight: bold\">)</span>  = <span style=\"color: #008080; text-decoration-color: #008080; font-weight: bold\">0</span>\n",
       "</pre>\n"
      ],
      "text/plain": [
       "\u001b[1;35mexpectancy\u001b[0m\u001b[1m(\u001b[0mR\u001b[1m)\u001b[0m  = \u001b[1;36m0\u001b[0m\n"
      ]
     },
     "metadata": {},
     "output_type": "display_data"
    },
    {
     "data": {
      "text/html": [
       "<pre style=\"white-space:pre;overflow-x:auto;line-height:normal;font-family:Menlo,'DejaVu Sans Mono',consolas,'Courier New',monospace\"><span style=\"color: #800080; text-decoration-color: #800080; font-weight: bold\">expectancy</span><span style=\"font-weight: bold\">(</span>$<span style=\"font-weight: bold\">)</span>  = <span style=\"color: #008080; text-decoration-color: #008080; font-weight: bold\">60.63</span>\n",
       "</pre>\n"
      ],
      "text/plain": [
       "\u001b[1;35mexpectancy\u001b[0m\u001b[1m(\u001b[0m$\u001b[1m)\u001b[0m  = \u001b[1;36m60.63\u001b[0m\n"
      ]
     },
     "metadata": {},
     "output_type": "display_data"
    },
    {
     "data": {
      "text/html": [
       "<pre style=\"white-space:pre;overflow-x:auto;line-height:normal;font-family:Menlo,'DejaVu Sans Mono',consolas,'Courier New',monospace\">R max          = <span style=\"color: #008080; text-decoration-color: #008080; font-weight: bold\">0.58</span>\n",
       "</pre>\n"
      ],
      "text/plain": [
       "R max          = \u001b[1;36m0.58\u001b[0m\n"
      ]
     },
     "metadata": {},
     "output_type": "display_data"
    },
    {
     "data": {
      "text/html": [
       "<pre style=\"white-space:pre;overflow-x:auto;line-height:normal;font-family:Menlo,'DejaVu Sans Mono',consolas,'Courier New',monospace\">R min          = <span style=\"color: #008080; text-decoration-color: #008080; font-weight: bold\">-1.0</span>\n",
       "</pre>\n"
      ],
      "text/plain": [
       "R min          = \u001b[1;36m-1.0\u001b[0m\n"
      ]
     },
     "metadata": {},
     "output_type": "display_data"
    },
    {
     "data": {
      "text/html": [
       "<pre style=\"white-space:pre;overflow-x:auto;line-height:normal;font-family:Menlo,'DejaVu Sans Mono',consolas,'Courier New',monospace\">number trades  = <span style=\"color: #008080; text-decoration-color: #008080; font-weight: bold\">909</span>\n",
       "</pre>\n"
      ],
      "text/plain": [
       "number trades  = \u001b[1;36m909\u001b[0m\n"
      ]
     },
     "metadata": {},
     "output_type": "display_data"
    },
    {
     "data": {
      "text/html": [
       "<pre style=\"white-space:pre;overflow-x:auto;line-height:normal;font-family:Menlo,'DejaVu Sans Mono',consolas,'Courier New',monospace\">number winners = <span style=\"color: #008080; text-decoration-color: #008080; font-weight: bold\">514</span>\n",
       "</pre>\n"
      ],
      "text/plain": [
       "number winners = \u001b[1;36m514\u001b[0m\n"
      ]
     },
     "metadata": {},
     "output_type": "display_data"
    },
    {
     "data": {
      "text/html": [
       "<pre style=\"white-space:pre;overflow-x:auto;line-height:normal;font-family:Menlo,'DejaVu Sans Mono',consolas,'Courier New',monospace\">number losers  = <span style=\"color: #008080; text-decoration-color: #008080; font-weight: bold\">395</span>\n",
       "</pre>\n"
      ],
      "text/plain": [
       "number losers  = \u001b[1;36m395\u001b[0m\n"
      ]
     },
     "metadata": {},
     "output_type": "display_data"
    },
    {
     "data": {
      "text/html": [
       "<pre style=\"white-space:pre;overflow-x:auto;line-height:normal;font-family:Menlo,'DejaVu Sans Mono',consolas,'Courier New',monospace\">average trade  = <span style=\"color: #008080; text-decoration-color: #008080; font-weight: bold\">58.29</span>\n",
       "</pre>\n"
      ],
      "text/plain": [
       "average trade  = \u001b[1;36m58.29\u001b[0m\n"
      ]
     },
     "metadata": {},
     "output_type": "display_data"
    },
    {
     "data": {
      "text/html": [
       "<pre style=\"white-space:pre;overflow-x:auto;line-height:normal;font-family:Menlo,'DejaVu Sans Mono',consolas,'Courier New',monospace\">average win    = <span style=\"color: #008080; text-decoration-color: #008080; font-weight: bold\">520.5</span>\n",
       "</pre>\n"
      ],
      "text/plain": [
       "average win    = \u001b[1;36m520.5\u001b[0m\n"
      ]
     },
     "metadata": {},
     "output_type": "display_data"
    },
    {
     "data": {
      "text/html": [
       "<pre style=\"white-space:pre;overflow-x:auto;line-height:normal;font-family:Menlo,'DejaVu Sans Mono',consolas,'Courier New',monospace\">average loss   = <span style=\"color: #008080; text-decoration-color: #008080; font-weight: bold\">-537.9</span>\n",
       "</pre>\n"
      ],
      "text/plain": [
       "average loss   = \u001b[1;36m-537.9\u001b[0m\n"
      ]
     },
     "metadata": {},
     "output_type": "display_data"
    },
    {
     "data": {
      "text/html": [
       "<pre style=\"white-space:pre;overflow-x:auto;line-height:normal;font-family:Menlo,'DejaVu Sans Mono',consolas,'Courier New',monospace\">max win        = <span style=\"color: #008080; text-decoration-color: #008080; font-weight: bold\">5130.0</span>\n",
       "</pre>\n"
      ],
      "text/plain": [
       "max win        = \u001b[1;36m5130.0\u001b[0m\n"
      ]
     },
     "metadata": {},
     "output_type": "display_data"
    },
    {
     "data": {
      "text/html": [
       "<pre style=\"white-space:pre;overflow-x:auto;line-height:normal;font-family:Menlo,'DejaVu Sans Mono',consolas,'Courier New',monospace\">max loss       = <span style=\"color: #008080; text-decoration-color: #008080; font-weight: bold\">-8860.0</span>\n",
       "</pre>\n"
      ],
      "text/plain": [
       "max loss       = \u001b[1;36m-8860.0\u001b[0m\n"
      ]
     },
     "metadata": {},
     "output_type": "display_data"
    },
    {
     "data": {
      "text/html": [
       "<pre style=\"white-space:pre;overflow-x:auto;line-height:normal;font-family:Menlo,'DejaVu Sans Mono',consolas,'Courier New',monospace\">win/loss ratio = <span style=\"color: #008080; text-decoration-color: #008080; font-weight: bold\">0.97</span>\n",
       "</pre>\n"
      ],
      "text/plain": [
       "win/loss ratio = \u001b[1;36m0.97\u001b[0m\n"
      ]
     },
     "metadata": {},
     "output_type": "display_data"
    },
    {
     "data": {
      "text/html": [
       "<pre style=\"white-space:pre;overflow-x:auto;line-height:normal;font-family:Menlo,'DejaVu Sans Mono',consolas,'Courier New',monospace\">sqn            = <span style=\"color: #008080; text-decoration-color: #008080; font-weight: bold\">1.9</span>\n",
       "</pre>\n"
      ],
      "text/plain": [
       "sqn            = \u001b[1;36m1.9\u001b[0m\n"
      ]
     },
     "metadata": {},
     "output_type": "display_data"
    },
    {
     "data": {
      "text/html": [
       "<pre style=\"white-space:pre;overflow-x:auto;line-height:normal;font-family:Menlo,'DejaVu Sans Mono',consolas,'Courier New',monospace\">sqn100         = <span style=\"color: #008080; text-decoration-color: #008080; font-weight: bold\">1.11</span>\n",
       "</pre>\n"
      ],
      "text/plain": [
       "sqn100         = \u001b[1;36m1.11\u001b[0m\n"
      ]
     },
     "metadata": {},
     "output_type": "display_data"
    },
    {
     "data": {
      "text/html": [
       "<pre style=\"white-space:pre;overflow-x:auto;line-height:normal;font-family:Menlo,'DejaVu Sans Mono',consolas,'Courier New',monospace\">pnl_sqn        = <span style=\"color: #008080; text-decoration-color: #008080; font-weight: bold\">1.9</span>\n",
       "</pre>\n"
      ],
      "text/plain": [
       "pnl_sqn        = \u001b[1;36m1.9\u001b[0m\n"
      ]
     },
     "metadata": {},
     "output_type": "display_data"
    },
    {
     "data": {
      "text/html": [
       "<pre style=\"white-space:pre;overflow-x:auto;line-height:normal;font-family:Menlo,'DejaVu Sans Mono',consolas,'Courier New',monospace\">pnl_sqn100     = <span style=\"color: #008080; text-decoration-color: #008080; font-weight: bold\">1.11</span>\n",
       "</pre>\n"
      ],
      "text/plain": [
       "pnl_sqn100     = \u001b[1;36m1.11\u001b[0m\n"
      ]
     },
     "metadata": {},
     "output_type": "display_data"
    },
    {
     "data": {
      "text/html": [
       "<pre style=\"white-space:pre;overflow-x:auto;line-height:normal;font-family:Menlo,'DejaVu Sans Mono',consolas,'Courier New',monospace\">drawdown       = <span style=\"color: #008080; text-decoration-color: #008080; font-weight: bold\">-19170</span>\n",
       "</pre>\n"
      ],
      "text/plain": [
       "drawdown       = \u001b[1;36m-19170\u001b[0m\n"
      ]
     },
     "metadata": {},
     "output_type": "display_data"
    },
    {
     "data": {
      "text/html": [
       "<pre style=\"white-space:pre;overflow-x:auto;line-height:normal;font-family:Menlo,'DejaVu Sans Mono',consolas,'Courier New',monospace\">np <span style=\"color: #800080; text-decoration-color: #800080\">/</span> dd       = <span style=\"color: #008080; text-decoration-color: #008080; font-weight: bold\">2.8</span>\n",
       "</pre>\n"
      ],
      "text/plain": [
       "np \u001b[35m/\u001b[0m dd       = \u001b[1;36m2.8\u001b[0m\n"
      ]
     },
     "metadata": {},
     "output_type": "display_data"
    },
    {
     "data": {
      "text/html": [
       "<pre style=\"white-space:pre;overflow-x:auto;line-height:normal;font-family:Menlo,'DejaVu Sans Mono',consolas,'Courier New',monospace\">pareto        = <span style=\"color: #008080; text-decoration-color: #008080; font-weight: bold\">40.08</span>% of winners responsible for <span style=\"color: #008080; text-decoration-color: #008080; font-weight: bold\">80</span>% of profits\n",
       "</pre>\n"
      ],
      "text/plain": [
       "pareto        = \u001b[1;36m40.08\u001b[0m% of winners responsible for \u001b[1;36m80\u001b[0m% of profits\n"
      ]
     },
     "metadata": {},
     "output_type": "display_data"
    },
    {
     "data": {
      "text/html": [
       "<pre style=\"white-space:pre;overflow-x:auto;line-height:normal;font-family:Menlo,'DejaVu Sans Mono',consolas,'Courier New',monospace\">pareto_loss   = <span style=\"color: #008080; text-decoration-color: #008080; font-weight: bold\">97.97</span>% of losers responsible for <span style=\"color: #008080; text-decoration-color: #008080; font-weight: bold\">80</span>% of loses\n",
       "</pre>\n"
      ],
      "text/plain": [
       "pareto_loss   = \u001b[1;36m97.97\u001b[0m% of losers responsible for \u001b[1;36m80\u001b[0m% of loses\n"
      ]
     },
     "metadata": {},
     "output_type": "display_data"
    }
   ],
   "source": [
    "df = tlt.load_trades(trades_file)\n",
    "tlt.info()"
   ]
  },
  {
   "cell_type": "code",
   "execution_count": null,
   "id": "d00dafd1-b70d-4a6c-87d0-4775ba42a8da",
   "metadata": {},
   "outputs": [],
   "source": []
  },
  {
   "cell_type": "code",
   "execution_count": 44,
   "id": "6f3c1c40-87dc-440c-b0c2-95f7f74cf33d",
   "metadata": {},
   "outputs": [
    {
     "name": "stdout",
     "output_type": "stream",
     "text": [
      "mean R = 0.006578931030800597\n",
      "max R = 0.5790067720090294\n",
      "min R = -1.0\n"
     ]
    },
    {
     "data": {
      "text/plain": [
       "<AxesSubplot:xlabel='entry_ts'>"
      ]
     },
     "execution_count": 44,
     "metadata": {},
     "output_type": "execute_result"
    },
    {
     "data": {
      "image/png": "[encoded data removed]",
      "text/plain": [
       "<Figure size 432x288 with 1 Axes>"
      ]
     },
     "metadata": {
      "needs_background": "light"
     },
     "output_type": "display_data"
    }
   ],
   "source": [
    "print(f\"mean R = {df['Rmult'].mean()}\")\n",
    "print(f\"max R = {df['Rmult'].max()}\")\n",
    "print(f\"min R = {df['Rmult'].min()}\")\n",
    "df['Rmult'].rolling(20).mean().plot()"
   ]
  },
  {
   "cell_type": "code",
   "execution_count": 45,
   "id": "7f7623e7-5ff9-42d4-8458-cf698d446594",
   "metadata": {
    "tags": []
   },
   "outputs": [
    {
     "data": {
      "text/plain": [
       "<AxesSubplot:xlabel='entry_ts'>"
      ]
     },
     "execution_count": 45,
     "metadata": {},
     "output_type": "execute_result"
    },
    {
     "data": {
      "image/png": "[encoded data removed]",
      "text/plain": [
       "<Figure size 1152x432 with 1 Axes>"
      ]
     },
     "metadata": {
      "needs_background": "light"
     },
     "output_type": "display_data"
    }
   ],
   "source": [
    "df[['cum_pnl','max_pnl','Rmult']].plot(figsize=(16,6))"
   ]
  },
  {
   "cell_type": "code",
   "execution_count": 46,
   "id": "268a8059-001e-4ebd-9856-8d289241a601",
   "metadata": {},
   "outputs": [
    {
     "data": {
      "text/plain": [
       "<AxesSubplot:xlabel='entry_ts'>"
      ]
     },
     "execution_count": 46,
     "metadata": {},
     "output_type": "execute_result"
    },
    {
     "data": {
      "image/png": "[encoded data removed]",
      "text/plain": [
       "<Figure size 1152x288 with 1 Axes>"
      ]
     },
     "metadata": {
      "needs_background": "light"
     },
     "output_type": "display_data"
    }
   ],
   "source": [
    "df[['drawdown','cum_pnl','max_pnl']].plot(figsize=(16,4))"
   ]
  },
  {
   "cell_type": "code",
   "execution_count": 47,
   "id": "a6de11f7-5c50-406c-a658-157539933701",
   "metadata": {},
   "outputs": [
    {
     "data": {
      "text/plain": [
       "<AxesSubplot:xlabel='entry_ts'>"
      ]
     },
     "execution_count": 47,
     "metadata": {},
     "output_type": "execute_result"
    },
    {
     "data": {
      "image/png": "[encoded data removed]",
      "text/plain": [
       "<Figure size 1152x288 with 1 Axes>"
      ]
     },
     "metadata": {
      "needs_background": "light"
     },
     "output_type": "display_data"
    }
   ],
   "source": [
    "df['cum_pnl'].rolling(20).mean().plot(figsize=(16,4))"
   ]
  },
  {
   "cell_type": "markdown",
   "id": "146bb841-35af-431b-8b51-f570a04425f0",
   "metadata": {},
   "source": [
    "### Load bar data"
   ]
  },
  {
   "cell_type": "code",
   "execution_count": 48,
   "id": "14ac79e2-7277-4bac-8d01-572b4d4831dc",
   "metadata": {
    "tags": []
   },
   "outputs": [
    {
     "name": "stdout",
     "output_type": "stream",
     "text": [
      "77,229 bars\n"
     ]
    },
    {
     "data": {
      "text/html": [
       "<div>\n",
       "<style scoped>\n",
       "    .dataframe tbody tr th:only-of-type {\n",
       "        vertical-align: middle;\n",
       "    }\n",
       "\n",
       "    .dataframe tbody tr th {\n",
       "        vertical-align: top;\n",
       "    }\n",
       "\n",
       "    .dataframe thead th {\n",
       "        text-align: right;\n",
       "    }\n",
       "</style>\n",
       "<table border=\"1\" class=\"dataframe\">\n",
       "  <thead>\n",
       "    <tr style=\"text-align: right;\">\n",
       "      <th></th>\n",
       "      <th>BarNum</th>\n",
       "      <th>Open</th>\n",
       "      <th>High</th>\n",
       "      <th>Low</th>\n",
       "      <th>Close</th>\n",
       "    </tr>\n",
       "  </thead>\n",
       "  <tbody>\n",
       "    <tr>\n",
       "      <th>2009-01-06 09:00:00</th>\n",
       "      <td>1</td>\n",
       "      <td>1302.50</td>\n",
       "      <td>1308.50</td>\n",
       "      <td>1293.25</td>\n",
       "      <td>1306.00</td>\n",
       "    </tr>\n",
       "    <tr>\n",
       "      <th>2009-01-06 10:00:00</th>\n",
       "      <td>2</td>\n",
       "      <td>1306.00</td>\n",
       "      <td>1309.00</td>\n",
       "      <td>1292.25</td>\n",
       "      <td>1295.00</td>\n",
       "    </tr>\n",
       "    <tr>\n",
       "      <th>2009-01-06 11:00:00</th>\n",
       "      <td>3</td>\n",
       "      <td>1295.25</td>\n",
       "      <td>1298.25</td>\n",
       "      <td>1289.50</td>\n",
       "      <td>1296.50</td>\n",
       "    </tr>\n",
       "    <tr>\n",
       "      <th>2009-01-06 12:00:00</th>\n",
       "      <td>4</td>\n",
       "      <td>1296.75</td>\n",
       "      <td>1308.00</td>\n",
       "      <td>1295.25</td>\n",
       "      <td>1306.75</td>\n",
       "    </tr>\n",
       "    <tr>\n",
       "      <th>2009-01-06 13:00:00</th>\n",
       "      <td>5</td>\n",
       "      <td>1306.75</td>\n",
       "      <td>1306.75</td>\n",
       "      <td>1295.75</td>\n",
       "      <td>1299.25</td>\n",
       "    </tr>\n",
       "  </tbody>\n",
       "</table>\n",
       "</div>"
      ],
      "text/plain": [
       "                     BarNum     Open     High      Low    Close\n",
       "2009-01-06 09:00:00       1  1302.50  1308.50  1293.25  1306.00\n",
       "2009-01-06 10:00:00       2  1306.00  1309.00  1292.25  1295.00\n",
       "2009-01-06 11:00:00       3  1295.25  1298.25  1289.50  1296.50\n",
       "2009-01-06 12:00:00       4  1296.75  1308.00  1295.25  1306.75\n",
       "2009-01-06 13:00:00       5  1306.75  1306.75  1295.75  1299.25"
      ]
     },
     "execution_count": 48,
     "metadata": {},
     "output_type": "execute_result"
    }
   ],
   "source": [
    "bars_df = tlt.load_bars(bars_file)\n",
    "print(f\"{len(bars_df):,} bars\")\n",
    "bars_df.head()"
   ]
  },
  {
   "cell_type": "markdown",
   "id": "e55bc1fe-647a-499a-93b4-d0d20dadcb7d",
   "metadata": {},
   "source": [
    "### MAE / MFE"
   ]
  },
  {
   "cell_type": "code",
   "execution_count": 49,
   "id": "6af6ebe2-435e-4859-9ef1-ba379b25e8c2",
   "metadata": {
    "tags": []
   },
   "outputs": [
    {
     "data": {
      "text/html": [
       "<div>\n",
       "<style scoped>\n",
       "    .dataframe tbody tr th:only-of-type {\n",
       "        vertical-align: middle;\n",
       "    }\n",
       "\n",
       "    .dataframe tbody tr th {\n",
       "        vertical-align: top;\n",
       "    }\n",
       "\n",
       "    .dataframe thead th {\n",
       "        text-align: right;\n",
       "    }\n",
       "</style>\n",
       "<table border=\"1\" class=\"dataframe\">\n",
       "  <thead>\n",
       "    <tr style=\"text-align: right;\">\n",
       "      <th></th>\n",
       "      <th>entry_ts</th>\n",
       "      <th>entry_px</th>\n",
       "      <th>exit_ts</th>\n",
       "      <th>exit_px</th>\n",
       "      <th>StopPr</th>\n",
       "      <th>MarkPos</th>\n",
       "      <th>pnl</th>\n",
       "      <th>TrRisk</th>\n",
       "      <th>size</th>\n",
       "      <th>symbol</th>\n",
       "      <th>ATREnt</th>\n",
       "      <th>CurrConv</th>\n",
       "      <th>Rmult</th>\n",
       "      <th>cum_pnl</th>\n",
       "      <th>max_pnl</th>\n",
       "      <th>drawdown</th>\n",
       "      <th>pdHighestHigh</th>\n",
       "      <th>pdLowestLow</th>\n",
       "      <th>mae</th>\n",
       "      <th>mfe</th>\n",
       "    </tr>\n",
       "    <tr>\n",
       "      <th>entry_ts</th>\n",
       "      <th></th>\n",
       "      <th></th>\n",
       "      <th></th>\n",
       "      <th></th>\n",
       "      <th></th>\n",
       "      <th></th>\n",
       "      <th></th>\n",
       "      <th></th>\n",
       "      <th></th>\n",
       "      <th></th>\n",
       "      <th></th>\n",
       "      <th></th>\n",
       "      <th></th>\n",
       "      <th></th>\n",
       "      <th></th>\n",
       "      <th></th>\n",
       "      <th></th>\n",
       "      <th></th>\n",
       "      <th></th>\n",
       "      <th></th>\n",
       "    </tr>\n",
       "  </thead>\n",
       "  <tbody>\n",
       "    <tr>\n",
       "      <th>2012-09-13 09:05:00</th>\n",
       "      <td>9/13/2012 9:05:00</td>\n",
       "      <td>2859.25</td>\n",
       "      <td>2012-09-13 13:25:00</td>\n",
       "      <td>2902.00</td>\n",
       "      <td>0.0</td>\n",
       "      <td>1</td>\n",
       "      <td>855.0</td>\n",
       "      <td>0.0</td>\n",
       "      <td>1</td>\n",
       "      <td>@NQ</td>\n",
       "      <td>2.850</td>\n",
       "      <td>1.0</td>\n",
       "      <td>0.096501</td>\n",
       "      <td>855.0</td>\n",
       "      <td>855.0</td>\n",
       "      <td>0.0</td>\n",
       "      <td>2894.75</td>\n",
       "      <td>2854.75</td>\n",
       "      <td>-90.0</td>\n",
       "      <td>710.0</td>\n",
       "    </tr>\n",
       "    <tr>\n",
       "      <th>2012-09-18 10:25:00</th>\n",
       "      <td>9/18/2012 10:25:00</td>\n",
       "      <td>2922.00</td>\n",
       "      <td>2012-09-18 13:25:00</td>\n",
       "      <td>2920.50</td>\n",
       "      <td>0.0</td>\n",
       "      <td>1</td>\n",
       "      <td>-30.0</td>\n",
       "      <td>0.0</td>\n",
       "      <td>1</td>\n",
       "      <td>@NQ</td>\n",
       "      <td>4.225</td>\n",
       "      <td>1.0</td>\n",
       "      <td>-0.003386</td>\n",
       "      <td>825.0</td>\n",
       "      <td>855.0</td>\n",
       "      <td>-30.0</td>\n",
       "      <td>2922.75</td>\n",
       "      <td>2913.75</td>\n",
       "      <td>-165.0</td>\n",
       "      <td>15.0</td>\n",
       "    </tr>\n",
       "    <tr>\n",
       "      <th>2012-09-21 08:25:00</th>\n",
       "      <td>9/21/2012 8:25:00</td>\n",
       "      <td>2939.50</td>\n",
       "      <td>2012-09-21 13:25:00</td>\n",
       "      <td>2927.50</td>\n",
       "      <td>0.0</td>\n",
       "      <td>1</td>\n",
       "      <td>-240.0</td>\n",
       "      <td>0.0</td>\n",
       "      <td>1</td>\n",
       "      <td>@NQ</td>\n",
       "      <td>3.150</td>\n",
       "      <td>1.0</td>\n",
       "      <td>-0.027088</td>\n",
       "      <td>585.0</td>\n",
       "      <td>855.0</td>\n",
       "      <td>-270.0</td>\n",
       "      <td>2940.50</td>\n",
       "      <td>2931.25</td>\n",
       "      <td>-165.0</td>\n",
       "      <td>20.0</td>\n",
       "    </tr>\n",
       "    <tr>\n",
       "      <th>2012-09-25 10:25:00</th>\n",
       "      <td>9/25/2012 10:25:00</td>\n",
       "      <td>2921.00</td>\n",
       "      <td>2012-09-25 13:25:00</td>\n",
       "      <td>2899.75</td>\n",
       "      <td>0.0</td>\n",
       "      <td>1</td>\n",
       "      <td>-425.0</td>\n",
       "      <td>0.0</td>\n",
       "      <td>1</td>\n",
       "      <td>@NQ</td>\n",
       "      <td>4.375</td>\n",
       "      <td>1.0</td>\n",
       "      <td>-0.047968</td>\n",
       "      <td>160.0</td>\n",
       "      <td>855.0</td>\n",
       "      <td>-695.0</td>\n",
       "      <td>2921.75</td>\n",
       "      <td>2899.75</td>\n",
       "      <td>-425.0</td>\n",
       "      <td>15.0</td>\n",
       "    </tr>\n",
       "    <tr>\n",
       "      <th>2012-09-27 11:25:00</th>\n",
       "      <td>9/27/2012 11:25:00</td>\n",
       "      <td>2875.50</td>\n",
       "      <td>2012-09-27 13:25:00</td>\n",
       "      <td>2887.00</td>\n",
       "      <td>0.0</td>\n",
       "      <td>1</td>\n",
       "      <td>230.0</td>\n",
       "      <td>0.0</td>\n",
       "      <td>1</td>\n",
       "      <td>@NQ</td>\n",
       "      <td>7.025</td>\n",
       "      <td>1.0</td>\n",
       "      <td>0.025959</td>\n",
       "      <td>390.0</td>\n",
       "      <td>855.0</td>\n",
       "      <td>-465.0</td>\n",
       "      <td>2886.50</td>\n",
       "      <td>2867.75</td>\n",
       "      <td>-155.0</td>\n",
       "      <td>220.0</td>\n",
       "    </tr>\n",
       "  </tbody>\n",
       "</table>\n",
       "</div>"
      ],
      "text/plain": [
       "                               entry_ts  entry_px             exit_ts  \\\n",
       "entry_ts                                                                \n",
       "2012-09-13 09:05:00   9/13/2012 9:05:00   2859.25 2012-09-13 13:25:00   \n",
       "2012-09-18 10:25:00  9/18/2012 10:25:00   2922.00 2012-09-18 13:25:00   \n",
       "2012-09-21 08:25:00   9/21/2012 8:25:00   2939.50 2012-09-21 13:25:00   \n",
       "2012-09-25 10:25:00  9/25/2012 10:25:00   2921.00 2012-09-25 13:25:00   \n",
       "2012-09-27 11:25:00  9/27/2012 11:25:00   2875.50 2012-09-27 13:25:00   \n",
       "\n",
       "                     exit_px  StopPr  MarkPos    pnl  TrRisk  size symbol  \\\n",
       "entry_ts                                                                    \n",
       "2012-09-13 09:05:00  2902.00     0.0        1  855.0     0.0     1    @NQ   \n",
       "2012-09-18 10:25:00  2920.50     0.0        1  -30.0     0.0     1    @NQ   \n",
       "2012-09-21 08:25:00  2927.50     0.0        1 -240.0     0.0     1    @NQ   \n",
       "2012-09-25 10:25:00  2899.75     0.0        1 -425.0     0.0     1    @NQ   \n",
       "2012-09-27 11:25:00  2887.00     0.0        1  230.0     0.0     1    @NQ   \n",
       "\n",
       "                     ATREnt  CurrConv     Rmult  cum_pnl  max_pnl  drawdown  \\\n",
       "entry_ts                                                                      \n",
       "2012-09-13 09:05:00   2.850       1.0  0.096501    855.0    855.0       0.0   \n",
       "2012-09-18 10:25:00   4.225       1.0 -0.003386    825.0    855.0     -30.0   \n",
       "2012-09-21 08:25:00   3.150       1.0 -0.027088    585.0    855.0    -270.0   \n",
       "2012-09-25 10:25:00   4.375       1.0 -0.047968    160.0    855.0    -695.0   \n",
       "2012-09-27 11:25:00   7.025       1.0  0.025959    390.0    855.0    -465.0   \n",
       "\n",
       "                     pdHighestHigh  pdLowestLow    mae    mfe  \n",
       "entry_ts                                                       \n",
       "2012-09-13 09:05:00        2894.75      2854.75  -90.0  710.0  \n",
       "2012-09-18 10:25:00        2922.75      2913.75 -165.0   15.0  \n",
       "2012-09-21 08:25:00        2940.50      2931.25 -165.0   20.0  \n",
       "2012-09-25 10:25:00        2921.75      2899.75 -425.0   15.0  \n",
       "2012-09-27 11:25:00        2886.50      2867.75 -155.0  220.0  "
      ]
     },
     "execution_count": 49,
     "metadata": {},
     "output_type": "execute_result"
    }
   ],
   "source": [
    "mae_df = tlt.set_max_excursions()\n",
    "mae_df.head()"
   ]
  },
  {
   "cell_type": "code",
   "execution_count": 50,
   "id": "8483fb36-cc7f-4071-abd0-f078b5aef03f",
   "metadata": {},
   "outputs": [],
   "source": [
    "winner = mae_df[mae_df['pnl'] >= 0][['pnl','mae']]\n",
    "winner['winner'] = True\n",
    "loser = mae_df[mae_df['pnl'] < 0][['pnl','mae']]\n",
    "loser['winner'] = False\n",
    "\n",
    "winner['pnl'] = abs(winner['pnl'])\n",
    "winner['mae'] = abs(winner['mae'])\n",
    "loser['pnl'] = abs(loser['pnl'])\n",
    "loser['mae'] = abs(loser['mae'])\n",
    "\n",
    "#mae = winner.append(loser, ignore_index=True)\n",
    "#mae['pnl'] = abs(mae['pnl'])\n",
    "#mae['mae'] = abs(mae['mae'])\n",
    "#mae.sample(5)"
   ]
  },
  {
   "cell_type": "code",
   "execution_count": 51,
   "id": "57ae9597-96b2-4086-8ba8-3a195a21a259",
   "metadata": {},
   "outputs": [
    {
     "data": {
      "text/html": [
       "<div>\n",
       "<style scoped>\n",
       "    .dataframe tbody tr th:only-of-type {\n",
       "        vertical-align: middle;\n",
       "    }\n",
       "\n",
       "    .dataframe tbody tr th {\n",
       "        vertical-align: top;\n",
       "    }\n",
       "\n",
       "    .dataframe thead th {\n",
       "        text-align: right;\n",
       "    }\n",
       "</style>\n",
       "<table border=\"1\" class=\"dataframe\">\n",
       "  <thead>\n",
       "    <tr style=\"text-align: right;\">\n",
       "      <th></th>\n",
       "      <th>pnl</th>\n",
       "      <th>mae</th>\n",
       "      <th>winner</th>\n",
       "    </tr>\n",
       "    <tr>\n",
       "      <th>entry_ts</th>\n",
       "      <th></th>\n",
       "      <th></th>\n",
       "      <th></th>\n",
       "    </tr>\n",
       "  </thead>\n",
       "  <tbody>\n",
       "    <tr>\n",
       "      <th>2012-09-13 09:05:00</th>\n",
       "      <td>855.0</td>\n",
       "      <td>90.0</td>\n",
       "      <td>True</td>\n",
       "    </tr>\n",
       "    <tr>\n",
       "      <th>2012-09-27 11:25:00</th>\n",
       "      <td>230.0</td>\n",
       "      <td>155.0</td>\n",
       "      <td>True</td>\n",
       "    </tr>\n",
       "    <tr>\n",
       "      <th>2012-10-16 07:25:00</th>\n",
       "      <td>400.0</td>\n",
       "      <td>225.0</td>\n",
       "      <td>True</td>\n",
       "    </tr>\n",
       "    <tr>\n",
       "      <th>2012-11-01 09:25:00</th>\n",
       "      <td>310.0</td>\n",
       "      <td>80.0</td>\n",
       "      <td>True</td>\n",
       "    </tr>\n",
       "    <tr>\n",
       "      <th>2012-11-06 11:05:00</th>\n",
       "      <td>20.0</td>\n",
       "      <td>65.0</td>\n",
       "      <td>True</td>\n",
       "    </tr>\n",
       "  </tbody>\n",
       "</table>\n",
       "</div>"
      ],
      "text/plain": [
       "                       pnl    mae  winner\n",
       "entry_ts                                 \n",
       "2012-09-13 09:05:00  855.0   90.0    True\n",
       "2012-09-27 11:25:00  230.0  155.0    True\n",
       "2012-10-16 07:25:00  400.0  225.0    True\n",
       "2012-11-01 09:25:00  310.0   80.0    True\n",
       "2012-11-06 11:05:00   20.0   65.0    True"
      ]
     },
     "execution_count": 51,
     "metadata": {},
     "output_type": "execute_result"
    }
   ],
   "source": [
    "winner.head()"
   ]
  },
  {
   "cell_type": "code",
   "execution_count": 52,
   "id": "c37b2c31-dadb-4fa5-9463-a895f4c45600",
   "metadata": {
    "tags": []
   },
   "outputs": [
    {
     "ename": "NameError",
     "evalue": "name 'plt' is not defined",
     "output_type": "error",
     "traceback": [
      "\u001b[0;31m---------------------------------------------------------------------------\u001b[0m",
      "\u001b[0;31mNameError\u001b[0m                                 Traceback (most recent call last)",
      "\u001b[0;32m/var/folders/wv/8lw0yw8n7pn2m9lmt7yw2drw0000gn/T/ipykernel_25809/1695785931.py\u001b[0m in \u001b[0;36m<module>\u001b[0;34m\u001b[0m\n\u001b[1;32m      1\u001b[0m \u001b[0mnrow\u001b[0m \u001b[0;34m=\u001b[0m \u001b[0;36m1\u001b[0m\u001b[0;34m\u001b[0m\u001b[0;34m\u001b[0m\u001b[0m\n\u001b[1;32m      2\u001b[0m \u001b[0mncol\u001b[0m \u001b[0;34m=\u001b[0m \u001b[0;36m2\u001b[0m\u001b[0;34m\u001b[0m\u001b[0;34m\u001b[0m\u001b[0m\n\u001b[0;32m----> 3\u001b[0;31m \u001b[0mfig\u001b[0m\u001b[0;34m,\u001b[0m \u001b[0max\u001b[0m \u001b[0;34m=\u001b[0m \u001b[0mplt\u001b[0m\u001b[0;34m.\u001b[0m\u001b[0msubplots\u001b[0m\u001b[0;34m(\u001b[0m\u001b[0mnrow\u001b[0m\u001b[0;34m,\u001b[0m \u001b[0mncol\u001b[0m\u001b[0;34m)\u001b[0m\u001b[0;34m\u001b[0m\u001b[0;34m\u001b[0m\u001b[0m\n\u001b[0m\u001b[1;32m      4\u001b[0m \u001b[0max\u001b[0m\u001b[0;34m(\u001b[0m\u001b[0;36m1\u001b[0m\u001b[0;34m,\u001b[0m\u001b[0;36m1\u001b[0m\u001b[0;34m)\u001b[0m\u001b[0;34m.\u001b[0m\u001b[0mscatter\u001b[0m\u001b[0;34m(\u001b[0m\u001b[0mx\u001b[0m \u001b[0;34m=\u001b[0m \u001b[0mwinner\u001b[0m\u001b[0;34m[\u001b[0m\u001b[0;34m'mae'\u001b[0m\u001b[0;34m]\u001b[0m\u001b[0;34m,\u001b[0m \u001b[0my\u001b[0m \u001b[0;34m=\u001b[0m \u001b[0mwinner\u001b[0m\u001b[0;34m[\u001b[0m\u001b[0;34m'pnl'\u001b[0m\u001b[0;34m]\u001b[0m\u001b[0;34m,\u001b[0m \u001b[0mmarker\u001b[0m\u001b[0;34m=\u001b[0m\u001b[0;34m'o'\u001b[0m\u001b[0;34m,\u001b[0m \u001b[0mcolor\u001b[0m\u001b[0;34m=\u001b[0m\u001b[0;34m'green'\u001b[0m\u001b[0;34m,\u001b[0m \u001b[0ms\u001b[0m\u001b[0;34m=\u001b[0m\u001b[0;36m20\u001b[0m\u001b[0;34m,\u001b[0m \u001b[0mlabel\u001b[0m\u001b[0;34m=\u001b[0m\u001b[0;34m'Winners'\u001b[0m\u001b[0;34m)\u001b[0m\u001b[0;34m\u001b[0m\u001b[0;34m\u001b[0m\u001b[0m\n\u001b[1;32m      5\u001b[0m \u001b[0max\u001b[0m\u001b[0;34m(\u001b[0m\u001b[0;36m1\u001b[0m\u001b[0;34m,\u001b[0m\u001b[0;36m2\u001b[0m\u001b[0;34m)\u001b[0m\u001b[0;34m.\u001b[0m\u001b[0mscatter\u001b[0m\u001b[0;34m(\u001b[0m\u001b[0mx\u001b[0m \u001b[0;34m=\u001b[0m \u001b[0mloser\u001b[0m\u001b[0;34m[\u001b[0m\u001b[0;34m'mae'\u001b[0m\u001b[0;34m]\u001b[0m\u001b[0;34m,\u001b[0m \u001b[0my\u001b[0m \u001b[0;34m=\u001b[0m \u001b[0mloser\u001b[0m\u001b[0;34m[\u001b[0m\u001b[0;34m'pnl'\u001b[0m\u001b[0;34m]\u001b[0m\u001b[0;34m,\u001b[0m \u001b[0mmarker\u001b[0m\u001b[0;34m=\u001b[0m\u001b[0;34m'x'\u001b[0m\u001b[0;34m,\u001b[0m \u001b[0mcolor\u001b[0m\u001b[0;34m=\u001b[0m\u001b[0;34m'red'\u001b[0m\u001b[0;34m,\u001b[0m \u001b[0ms\u001b[0m\u001b[0;34m=\u001b[0m\u001b[0;36m20\u001b[0m\u001b[0;34m,\u001b[0m \u001b[0mlabel\u001b[0m\u001b[0;34m=\u001b[0m\u001b[0;34m'Losers'\u001b[0m\u001b[0;34m)\u001b[0m\u001b[0;34m\u001b[0m\u001b[0;34m\u001b[0m\u001b[0m\n",
      "\u001b[0;31mNameError\u001b[0m: name 'plt' is not defined"
     ]
    }
   ],
   "source": [
    "nrow = 1\n",
    "ncol = 2\n",
    "fig, ax = plt.subplots(nrow, ncol)\n",
    "ax(1,1).scatter(x = winner['mae'], y = winner['pnl'], marker='o', color='green', s=20, label='Winners')\n",
    "ax(1,2).scatter(x = loser['mae'], y = loser['pnl'], marker='x', color='red', s=20, label='Losers')\n",
    "#df_list[count].plot(ax=axes[r,c])\n",
    "\n",
    "'''\n",
    "#fig, ax = plt.subplots(figsize=(10, 6))\n",
    "ax.scatter(x = winner['mae'], y = winner['pnl'], marker='o', color='green', s=20, label='Winners')\n",
    "ax.scatter(x = loser['mae'], y = loser['pnl'], marker='x', color='red', s=20, label='Losers')\n",
    "mae_pnl=winner['mae'].max()\n",
    "ax.axvline(mae_pnl, color='grey', linestyle='--', alpha=0.5)\n",
    "mae_lt_pnl=winner[winner['pnl'] > winner['mae']]['mae'].max()\n",
    "ax.axvline(mae_lt_pnl, color='grey', linestyle='--', alpha=0.5)\n",
    "ax.axhline(tlt.avg_win_trade(), color='grey', linestyle='--', alpha=0.5)\n",
    "ax.axhline(tlt.avg_win_trade()+tlt.std_win_trade(), color='grey', linestyle='--', alpha=0.5)\n",
    "ax.axhline(tlt.avg_win_trade()+2*tlt.std_win_trade(), color='grey', linestyle='--', alpha=0.5)\n",
    "plt.plot([], [], ' ', label=f\"Max winner MAE: {mae_pnl}\")\n",
    "plt.plot([], [], ' ', label=f\"Max MAE (pnl>MAE): {mae_lt_pnl}\")\n",
    "\n",
    "plt.xlabel(\"MAE\")\n",
    "plt.ylabel(\"PnL\")\n",
    "plt.legend()\n",
    "#plt.show()\n",
    "'''"
   ]
  },
  {
   "cell_type": "markdown",
   "id": "88f8b845-fa3d-475b-8923-5b8c640aeab7",
   "metadata": {},
   "source": [
    "### R1"
   ]
  },
  {
   "cell_type": "code",
   "execution_count": 27,
   "id": "5286436a-3a3e-431f-9ca6-9c399dc428ab",
   "metadata": {},
   "outputs": [
    {
     "data": {
      "text/html": [
       "<pre style=\"white-space:pre;overflow-x:auto;line-height:normal;font-family:Menlo,'DejaVu Sans Mono',consolas,'Courier New',monospace\">\n",
       "            <span style=\"color: #800080; text-decoration-color: #800080; font-weight: bold\">set_r1</span><span style=\"font-weight: bold\">(</span> <span style=\"color: #808000; text-decoration-color: #808000\">value</span>=<span style=\"font-weight: bold\">&lt;</span><span style=\"color: #000000; text-decoration-color: #000000\"> int constant </span><span style=\"font-weight: bold\">&gt;</span> <span style=\"font-weight: bold\">)</span>\n",
       "            <span style=\"color: #800080; text-decoration-color: #800080; font-weight: bold\">set_r1</span><span style=\"font-weight: bold\">(</span> MaxLoss <span style=\"font-weight: bold\">)</span>\n",
       "            <span style=\"color: #800080; text-decoration-color: #800080; font-weight: bold\">set_r1</span><span style=\"font-weight: bold\">(</span> AvgLoss <span style=\"font-weight: bold\">)</span>\n",
       "            <span style=\"color: #800080; text-decoration-color: #800080; font-weight: bold\">set_r1</span><span style=\"font-weight: bold\">(</span> MaxLoss100 <span style=\"font-weight: bold\">)</span>\n",
       "            <span style=\"color: #800080; text-decoration-color: #800080; font-weight: bold\">set_r1</span><span style=\"font-weight: bold\">(</span> AvgLoss100 <span style=\"font-weight: bold\">)</span>\n",
       "        \n",
       "</pre>\n"
      ],
      "text/plain": [
       "\n",
       "            \u001b[1;35mset_r1\u001b[0m\u001b[1m(\u001b[0m \u001b[33mvalue\u001b[0m=\u001b[1m<\u001b[0m\u001b[39m int constant \u001b[0m\u001b[1m>\u001b[0m \u001b[1m)\u001b[0m\n",
       "            \u001b[1;35mset_r1\u001b[0m\u001b[1m(\u001b[0m MaxLoss \u001b[1m)\u001b[0m\n",
       "            \u001b[1;35mset_r1\u001b[0m\u001b[1m(\u001b[0m AvgLoss \u001b[1m)\u001b[0m\n",
       "            \u001b[1;35mset_r1\u001b[0m\u001b[1m(\u001b[0m MaxLoss100 \u001b[1m)\u001b[0m\n",
       "            \u001b[1;35mset_r1\u001b[0m\u001b[1m(\u001b[0m AvgLoss100 \u001b[1m)\u001b[0m\n",
       "        \n"
      ]
     },
     "metadata": {},
     "output_type": "display_data"
    }
   ],
   "source": [
    "tlt.help()"
   ]
  },
  {
   "cell_type": "code",
   "execution_count": 37,
   "id": "e6b87a7c-86bc-4996-ae90-699c021d8c1d",
   "metadata": {
    "tags": []
   },
   "outputs": [
    {
     "data": {
      "text/html": [
       "<pre style=\"white-space:pre;overflow-x:auto;line-height:normal;font-family:Menlo,'DejaVu Sans Mono',consolas,'Courier New',monospace\">r1            = <span style=\"color: #008080; text-decoration-color: #008080; font-weight: bold\">537.5</span>  <span style=\"font-weight: bold\">(</span>MaxLoss<span style=\"font-weight: bold\">)</span>\n",
       "</pre>\n"
      ],
      "text/plain": [
       "r1            = \u001b[1;36m537.5\u001b[0m  \u001b[1m(\u001b[0mMaxLoss\u001b[1m)\u001b[0m\n"
      ]
     },
     "metadata": {},
     "output_type": "display_data"
    },
    {
     "data": {
      "text/html": [
       "<pre style=\"white-space:pre;overflow-x:auto;line-height:normal;font-family:Menlo,'DejaVu Sans Mono',consolas,'Courier New',monospace\">pnt_mulipler  = <span style=\"color: #008080; text-decoration-color: #008080; font-weight: bold\">5.0</span>\n",
       "</pre>\n"
      ],
      "text/plain": [
       "pnt_mulipler  = \u001b[1;36m5.0\u001b[0m\n"
      ]
     },
     "metadata": {},
     "output_type": "display_data"
    },
    {
     "data": {
      "text/html": [
       "<pre style=\"white-space:pre;overflow-x:auto;line-height:normal;font-family:Menlo,'DejaVu Sans Mono',consolas,'Courier New',monospace\">net profit     = <span style=\"color: #008080; text-decoration-color: #008080; font-weight: bold\">8</span>,<span style=\"color: #008080; text-decoration-color: #008080; font-weight: bold\">372.5</span>\n",
       "</pre>\n"
      ],
      "text/plain": [
       "net profit     = \u001b[1;36m8\u001b[0m,\u001b[1;36m372.5\u001b[0m\n"
      ]
     },
     "metadata": {},
     "output_type": "display_data"
    },
    {
     "data": {
      "text/html": [
       "<pre style=\"white-space:pre;overflow-x:auto;line-height:normal;font-family:Menlo,'DejaVu Sans Mono',consolas,'Courier New',monospace\">profit factor  = <span style=\"color: #008080; text-decoration-color: #008080; font-weight: bold\">1.3</span>\n",
       "</pre>\n"
      ],
      "text/plain": [
       "profit factor  = \u001b[1;36m1.3\u001b[0m\n"
      ]
     },
     "metadata": {},
     "output_type": "display_data"
    },
    {
     "data": {
      "text/html": [
       "<pre style=\"white-space:pre;overflow-x:auto;line-height:normal;font-family:Menlo,'DejaVu Sans Mono',consolas,'Courier New',monospace\">win percent    = <span style=\"color: #008080; text-decoration-color: #008080; font-weight: bold\">52.54</span>\n",
       "</pre>\n"
      ],
      "text/plain": [
       "win percent    = \u001b[1;36m52.54\u001b[0m\n"
      ]
     },
     "metadata": {},
     "output_type": "display_data"
    },
    {
     "data": {
      "text/html": [
       "<pre style=\"white-space:pre;overflow-x:auto;line-height:normal;font-family:Menlo,'DejaVu Sans Mono',consolas,'Courier New',monospace\"><span style=\"color: #800080; text-decoration-color: #800080; font-weight: bold\">expectancy</span><span style=\"font-weight: bold\">(</span>R<span style=\"font-weight: bold\">)</span>  = <span style=\"color: #008080; text-decoration-color: #008080; font-weight: bold\">0</span>\n",
       "</pre>\n"
      ],
      "text/plain": [
       "\u001b[1;35mexpectancy\u001b[0m\u001b[1m(\u001b[0mR\u001b[1m)\u001b[0m  = \u001b[1;36m0\u001b[0m\n"
      ]
     },
     "metadata": {},
     "output_type": "display_data"
    },
    {
     "data": {
      "text/html": [
       "<pre style=\"white-space:pre;overflow-x:auto;line-height:normal;font-family:Menlo,'DejaVu Sans Mono',consolas,'Courier New',monospace\"><span style=\"color: #800080; text-decoration-color: #800080; font-weight: bold\">expectancy</span><span style=\"font-weight: bold\">(</span>$<span style=\"font-weight: bold\">)</span>  = <span style=\"color: #008080; text-decoration-color: #008080; font-weight: bold\">16.99</span>\n",
       "</pre>\n"
      ],
      "text/plain": [
       "\u001b[1;35mexpectancy\u001b[0m\u001b[1m(\u001b[0m$\u001b[1m)\u001b[0m  = \u001b[1;36m16.99\u001b[0m\n"
      ]
     },
     "metadata": {},
     "output_type": "display_data"
    },
    {
     "data": {
      "text/html": [
       "<pre style=\"white-space:pre;overflow-x:auto;line-height:normal;font-family:Menlo,'DejaVu Sans Mono',consolas,'Courier New',monospace\">R max          = <span style=\"color: #008080; text-decoration-color: #008080; font-weight: bold\">2.61</span>\n",
       "</pre>\n"
      ],
      "text/plain": [
       "R max          = \u001b[1;36m2.61\u001b[0m\n"
      ]
     },
     "metadata": {},
     "output_type": "display_data"
    },
    {
     "data": {
      "text/html": [
       "<pre style=\"white-space:pre;overflow-x:auto;line-height:normal;font-family:Menlo,'DejaVu Sans Mono',consolas,'Courier New',monospace\">R min          = <span style=\"color: #008080; text-decoration-color: #008080; font-weight: bold\">-1.0</span>\n",
       "</pre>\n"
      ],
      "text/plain": [
       "R min          = \u001b[1;36m-1.0\u001b[0m\n"
      ]
     },
     "metadata": {},
     "output_type": "display_data"
    },
    {
     "data": {
      "text/html": [
       "<pre style=\"white-space:pre;overflow-x:auto;line-height:normal;font-family:Menlo,'DejaVu Sans Mono',consolas,'Courier New',monospace\">number trades  = <span style=\"color: #008080; text-decoration-color: #008080; font-weight: bold\">493</span>\n",
       "</pre>\n"
      ],
      "text/plain": [
       "number trades  = \u001b[1;36m493\u001b[0m\n"
      ]
     },
     "metadata": {},
     "output_type": "display_data"
    },
    {
     "data": {
      "text/html": [
       "<pre style=\"white-space:pre;overflow-x:auto;line-height:normal;font-family:Menlo,'DejaVu Sans Mono',consolas,'Courier New',monospace\">number winners = <span style=\"color: #008080; text-decoration-color: #008080; font-weight: bold\">259</span>\n",
       "</pre>\n"
      ],
      "text/plain": [
       "number winners = \u001b[1;36m259\u001b[0m\n"
      ]
     },
     "metadata": {},
     "output_type": "display_data"
    },
    {
     "data": {
      "text/html": [
       "<pre style=\"white-space:pre;overflow-x:auto;line-height:normal;font-family:Menlo,'DejaVu Sans Mono',consolas,'Courier New',monospace\">number losers  = <span style=\"color: #008080; text-decoration-color: #008080; font-weight: bold\">234</span>\n",
       "</pre>\n"
      ],
      "text/plain": [
       "number losers  = \u001b[1;36m234\u001b[0m\n"
      ]
     },
     "metadata": {},
     "output_type": "display_data"
    },
    {
     "data": {
      "text/html": [
       "<pre style=\"white-space:pre;overflow-x:auto;line-height:normal;font-family:Menlo,'DejaVu Sans Mono',consolas,'Courier New',monospace\">average trade  = <span style=\"color: #008080; text-decoration-color: #008080; font-weight: bold\">16.98</span>\n",
       "</pre>\n"
      ],
      "text/plain": [
       "average trade  = \u001b[1;36m16.98\u001b[0m\n"
      ]
     },
     "metadata": {},
     "output_type": "display_data"
    },
    {
     "data": {
      "text/html": [
       "<pre style=\"white-space:pre;overflow-x:auto;line-height:normal;font-family:Menlo,'DejaVu Sans Mono',consolas,'Courier New',monospace\">average win    = <span style=\"color: #008080; text-decoration-color: #008080; font-weight: bold\">140.14</span>\n",
       "</pre>\n"
      ],
      "text/plain": [
       "average win    = \u001b[1;36m140.14\u001b[0m\n"
      ]
     },
     "metadata": {},
     "output_type": "display_data"
    },
    {
     "data": {
      "text/html": [
       "<pre style=\"white-space:pre;overflow-x:auto;line-height:normal;font-family:Menlo,'DejaVu Sans Mono',consolas,'Courier New',monospace\">average loss   = <span style=\"color: #008080; text-decoration-color: #008080; font-weight: bold\">-119.34</span>\n",
       "</pre>\n"
      ],
      "text/plain": [
       "average loss   = \u001b[1;36m-119.34\u001b[0m\n"
      ]
     },
     "metadata": {},
     "output_type": "display_data"
    },
    {
     "data": {
      "text/html": [
       "<pre style=\"white-space:pre;overflow-x:auto;line-height:normal;font-family:Menlo,'DejaVu Sans Mono',consolas,'Courier New',monospace\">max win        = <span style=\"color: #008080; text-decoration-color: #008080; font-weight: bold\">1402.5</span>\n",
       "</pre>\n"
      ],
      "text/plain": [
       "max win        = \u001b[1;36m1402.5\u001b[0m\n"
      ]
     },
     "metadata": {},
     "output_type": "display_data"
    },
    {
     "data": {
      "text/html": [
       "<pre style=\"white-space:pre;overflow-x:auto;line-height:normal;font-family:Menlo,'DejaVu Sans Mono',consolas,'Courier New',monospace\">max loss       = <span style=\"color: #008080; text-decoration-color: #008080; font-weight: bold\">-537.5</span>\n",
       "</pre>\n"
      ],
      "text/plain": [
       "max loss       = \u001b[1;36m-537.5\u001b[0m\n"
      ]
     },
     "metadata": {},
     "output_type": "display_data"
    },
    {
     "data": {
      "text/html": [
       "<pre style=\"white-space:pre;overflow-x:auto;line-height:normal;font-family:Menlo,'DejaVu Sans Mono',consolas,'Courier New',monospace\">win/loss ratio = <span style=\"color: #008080; text-decoration-color: #008080; font-weight: bold\">1.17</span>\n",
       "</pre>\n"
      ],
      "text/plain": [
       "win/loss ratio = \u001b[1;36m1.17\u001b[0m\n"
      ]
     },
     "metadata": {},
     "output_type": "display_data"
    },
    {
     "data": {
      "text/html": [
       "<pre style=\"white-space:pre;overflow-x:auto;line-height:normal;font-family:Menlo,'DejaVu Sans Mono',consolas,'Courier New',monospace\">sqn            = <span style=\"color: #008080; text-decoration-color: #008080; font-weight: bold\">2.05</span>\n",
       "</pre>\n"
      ],
      "text/plain": [
       "sqn            = \u001b[1;36m2.05\u001b[0m\n"
      ]
     },
     "metadata": {},
     "output_type": "display_data"
    },
    {
     "data": {
      "text/html": [
       "<pre style=\"white-space:pre;overflow-x:auto;line-height:normal;font-family:Menlo,'DejaVu Sans Mono',consolas,'Courier New',monospace\">sqn100         = <span style=\"color: #008080; text-decoration-color: #008080; font-weight: bold\">1.91</span>\n",
       "</pre>\n"
      ],
      "text/plain": [
       "sqn100         = \u001b[1;36m1.91\u001b[0m\n"
      ]
     },
     "metadata": {},
     "output_type": "display_data"
    },
    {
     "data": {
      "text/html": [
       "<pre style=\"white-space:pre;overflow-x:auto;line-height:normal;font-family:Menlo,'DejaVu Sans Mono',consolas,'Courier New',monospace\">pnl_sqn        = <span style=\"color: #008080; text-decoration-color: #008080; font-weight: bold\">2.05</span>\n",
       "</pre>\n"
      ],
      "text/plain": [
       "pnl_sqn        = \u001b[1;36m2.05\u001b[0m\n"
      ]
     },
     "metadata": {},
     "output_type": "display_data"
    },
    {
     "data": {
      "text/html": [
       "<pre style=\"white-space:pre;overflow-x:auto;line-height:normal;font-family:Menlo,'DejaVu Sans Mono',consolas,'Courier New',monospace\">pnl_sqn100     = <span style=\"color: #008080; text-decoration-color: #008080; font-weight: bold\">1.91</span>\n",
       "</pre>\n"
      ],
      "text/plain": [
       "pnl_sqn100     = \u001b[1;36m1.91\u001b[0m\n"
      ]
     },
     "metadata": {},
     "output_type": "display_data"
    },
    {
     "data": {
      "text/html": [
       "<pre style=\"white-space:pre;overflow-x:auto;line-height:normal;font-family:Menlo,'DejaVu Sans Mono',consolas,'Courier New',monospace\">drawdown       = <span style=\"color: #008080; text-decoration-color: #008080; font-weight: bold\">-2147</span>\n",
       "</pre>\n"
      ],
      "text/plain": [
       "drawdown       = \u001b[1;36m-2147\u001b[0m\n"
      ]
     },
     "metadata": {},
     "output_type": "display_data"
    },
    {
     "data": {
      "text/html": [
       "<pre style=\"white-space:pre;overflow-x:auto;line-height:normal;font-family:Menlo,'DejaVu Sans Mono',consolas,'Courier New',monospace\">np <span style=\"color: #800080; text-decoration-color: #800080\">/</span> dd       = <span style=\"color: #008080; text-decoration-color: #008080; font-weight: bold\">3.9</span>\n",
       "</pre>\n"
      ],
      "text/plain": [
       "np \u001b[35m/\u001b[0m dd       = \u001b[1;36m3.9\u001b[0m\n"
      ]
     },
     "metadata": {},
     "output_type": "display_data"
    },
    {
     "data": {
      "text/html": [
       "<pre style=\"white-space:pre;overflow-x:auto;line-height:normal;font-family:Menlo,'DejaVu Sans Mono',consolas,'Courier New',monospace\">pareto        = <span style=\"color: #008080; text-decoration-color: #008080; font-weight: bold\">45.17</span>% of winners responsible for <span style=\"color: #008080; text-decoration-color: #008080; font-weight: bold\">80</span>% of profits\n",
       "</pre>\n"
      ],
      "text/plain": [
       "pareto        = \u001b[1;36m45.17\u001b[0m% of winners responsible for \u001b[1;36m80\u001b[0m% of profits\n"
      ]
     },
     "metadata": {},
     "output_type": "display_data"
    },
    {
     "data": {
      "text/html": [
       "<pre style=\"white-space:pre;overflow-x:auto;line-height:normal;font-family:Menlo,'DejaVu Sans Mono',consolas,'Courier New',monospace\">pareto_loss   = <span style=\"color: #008080; text-decoration-color: #008080; font-weight: bold\">91.03</span>% of losers responsible for <span style=\"color: #008080; text-decoration-color: #008080; font-weight: bold\">80</span>% of loses\n",
       "</pre>\n"
      ],
      "text/plain": [
       "pareto_loss   = \u001b[1;36m91.03\u001b[0m% of losers responsible for \u001b[1;36m80\u001b[0m% of loses\n"
      ]
     },
     "metadata": {},
     "output_type": "display_data"
    },
    {
     "data": {
      "text/plain": [
       "'\\nin calc_sqn\\nmean = 0.03159582999198075\\nstd  = 0.3418071412419514\\ncnt  = 493\\nsqn            = 2.05\\n'"
      ]
     },
     "execution_count": 37,
     "metadata": {},
     "output_type": "execute_result"
    }
   ],
   "source": [
    "tlt.set_r1(unit='MaxLoss')\n",
    "tlt.info()\n",
    "'''\n",
    "mean = 0.1423085234464236\n",
    "std  = 1.5395091563010361\n",
    "cnt  = 493\n",
    "sqn            = 2.05\n",
    "'''\n",
    "'''\n",
    "in calc_sqn\n",
    "mean = 0.03159582999198075\n",
    "std  = 0.3418071412419514\n",
    "cnt  = 493\n",
    "sqn            = 2.05\n",
    "'''"
   ]
  },
  {
   "cell_type": "code",
   "execution_count": null,
   "id": "a3172073-4db5-47c3-86ec-3f94d8115acf",
   "metadata": {
    "tags": []
   },
   "outputs": [],
   "source": [
    "tlt.trades_df['drawdown'].min()"
   ]
  },
  {
   "cell_type": "code",
   "execution_count": null,
   "id": "c4ea7252-d8b7-4ecf-a161-83f3ad406fff",
   "metadata": {},
   "outputs": [],
   "source": [
    "tlt.trades_df['drawdown'].abs().max()"
   ]
  },
  {
   "cell_type": "code",
   "execution_count": null,
   "id": "cf137ccb-3e4e-4fd7-b291-b86f6299d5cb",
   "metadata": {},
   "outputs": [],
   "source": [
    "tlt.set_r1('AvgLoss')"
   ]
  },
  {
   "cell_type": "markdown",
   "id": "03d6fed6-ee20-4bf7-8bbf-f3c82df3688f",
   "metadata": {},
   "source": [
    "### re-sampling data"
   ]
  },
  {
   "cell_type": "code",
   "execution_count": null,
   "id": "a77002e9-cb19-4f51-a6d6-53582775d14a",
   "metadata": {},
   "outputs": [],
   "source": [
    "#df.resample(rule='A').mean()\n",
    "#df.resample(rule='Q').mean()\n",
    "#df.resample(rule='BQ').mean()\n",
    "df.resample(rule='A').max().head()"
   ]
  },
  {
   "cell_type": "code",
   "execution_count": null,
   "id": "5f34048f-b15d-417a-99db-a426a7d7845e",
   "metadata": {},
   "outputs": [],
   "source": [
    "def first_day(entry):\n",
    "    return entry[0]\n",
    "df.resample('A').apply(first_day).head()"
   ]
  },
  {
   "cell_type": "code",
   "execution_count": 9,
   "id": "1f55934b-06a9-4a18-8ac8-9dbf1303e1b3",
   "metadata": {},
   "outputs": [
    {
     "data": {
      "text/plain": [
       "<AxesSubplot:xlabel='entry_ts'>"
      ]
     },
     "execution_count": 9,
     "metadata": {},
     "output_type": "execute_result"
    },
    {
     "data": {
      "image/png": "[encoded data removed]",
      "text/plain": [
       "<Figure size 1152x288 with 1 Axes>"
      ]
     },
     "metadata": {
      "needs_background": "light"
     },
     "output_type": "display_data"
    }
   ],
   "source": [
    "df['pnl'].resample('M').sum().plot(kind='bar',figsize=(16,4))"
   ]
  },
  {
   "cell_type": "markdown",
   "id": "a7b469ca-0653-440a-b575-8cebd6fcb29e",
   "metadata": {},
   "source": [
    "### Time Shifting"
   ]
  },
  {
   "cell_type": "code",
   "execution_count": null,
   "id": "20bc02ac-7abc-4cac-ace7-3c9400059674",
   "metadata": {},
   "outputs": [],
   "source": [
    "bars_df.head()"
   ]
  },
  {
   "cell_type": "code",
   "execution_count": null,
   "id": "7d0f1706-b399-49ee-b8e1-c00668f10ba7",
   "metadata": {
    "tags": []
   },
   "outputs": [],
   "source": [
    "#df.head(5)\n",
    "bars_df.head()\n",
    "bars_df.shift(periods=1).head()"
   ]
  },
  {
   "cell_type": "markdown",
   "id": "0d370c20-0929-4934-a7f4-959357b62b82",
   "metadata": {},
   "source": [
    "### Rolling and Expanding"
   ]
  },
  {
   "cell_type": "code",
   "execution_count": null,
   "id": "97f4ec60-7ba9-47fd-a75d-cd37df18e01b",
   "metadata": {},
   "outputs": [],
   "source": [
    "import pandas as pd"
   ]
  },
  {
   "cell_type": "code",
   "execution_count": null,
   "id": "27da5228-057c-4481-87a4-5c96e15a8cea",
   "metadata": {},
   "outputs": [],
   "source": [
    "bac_df = pd.read_csv('../../tests/data/BAC.csv',parse_dates=True,index_col=0)\n",
    "bac_df.head()"
   ]
  },
  {
   "cell_type": "code",
   "execution_count": null,
   "id": "1cd748a7-f67e-4d7f-854c-dd08b2e02238",
   "metadata": {
    "tags": []
   },
   "outputs": [],
   "source": [
    "bac_df['Close 30 Day MA'] = bac_df['Close'].rolling(30).mean()\n",
    "bac_df.head(5)"
   ]
  },
  {
   "cell_type": "code",
   "execution_count": null,
   "id": "5135e883-176a-4c13-bf67-91d07c0335b5",
   "metadata": {},
   "outputs": [],
   "source": [
    "bac_df[['Close 30 Day MA','Close']].plot(figsize=(16,6))"
   ]
  },
  {
   "cell_type": "code",
   "execution_count": null,
   "id": "872ebf2e-fc52-4599-8201-dfa77f2d29f6",
   "metadata": {},
   "outputs": [],
   "source": [
    "bac_df['Close'].expanding().mean().plot(figsize=(16,4))"
   ]
  },
  {
   "cell_type": "markdown",
   "id": "def28253-a922-45b3-8f91-9b22df266e6c",
   "metadata": {},
   "source": [
    "#### Bollinger Band example"
   ]
  },
  {
   "cell_type": "code",
   "execution_count": null,
   "id": "30bcd5df-ec91-42c7-8dbf-62e50e5ad131",
   "metadata": {},
   "outputs": [],
   "source": [
    "bac_df['Close of 20 Day MA'] = bac_df['Close'].rolling(20).mean()\n",
    "# Upper = 20MA + 2*std(20)\n",
    "bac_df['Upper'] = bac_df['Close of 20 Day MA'] + 3 * (bac_df['Close'].rolling(20).std())\n",
    "# Lower = 20MA = 2*std(20)\n",
    "bac_df['Lower'] = bac_df['Close of 20 Day MA'] - 3 * (bac_df['Close'].rolling(20).std())\n",
    "\n",
    "bac_df[['Close','Close of 20 Day MA','Upper','Lower']].plot(figsize=(16,6))"
   ]
  },
  {
   "cell_type": "code",
   "execution_count": null,
   "id": "2b2f3407-1f6d-4bdd-991d-b51b5943291d",
   "metadata": {},
   "outputs": [],
   "source": []
  },
  {
   "cell_type": "code",
   "execution_count": null,
   "id": "8a01efc5-76b3-4b38-abe1-87f8ba1ddc07",
   "metadata": {
    "tags": []
   },
   "outputs": [],
   "source": [
    "#cat ../../lib/trade_list_tools.py\n",
    "!head /Users/szagar/work/zts/bta_data_dev/ts_data/backtests/trades/s5030_bt15567_@MNQ_bars.csv"
   ]
  },
  {
   "cell_type": "code",
   "execution_count": null,
   "id": "cf123c4c-9acc-40fa-ac1a-0067985b859d",
   "metadata": {},
   "outputs": [],
   "source": [
    "import pandas as pd"
   ]
  },
  {
   "cell_type": "code",
   "execution_count": null,
   "id": "1f3026b0-3716-49c2-9b89-a7de38b305cd",
   "metadata": {
    "tags": []
   },
   "outputs": [],
   "source": [
    "bars_df = pd.read_csv(bars_file,index_col=0,names=['bar','o','h','l','c','na'])\n",
    "bars_df = bars_df.drop('na',axis=1)\n",
    "bars_df"
   ]
  },
  {
   "cell_type": "code",
   "execution_count": null,
   "id": "146724dc-29f4-4f9a-a338-d132263f2bbd",
   "metadata": {},
   "outputs": [],
   "source": [
    "    def set_r1(r1_param, df):\n",
    "        if r1_param == \"MaxLoss\":\n",
    "            r = abs(df[df[\"pnl\"] < 0][\"pnl\"].min())\n",
    "        elif r1_param == \"AvgLoss\":\n",
    "            r = abs(df[df[\"pnl\"] < 0][\"pnl\"].mean())\n",
    "        elif r1_param == \"MaxLoss100\":\n",
    "            r = abs(df[df[\"pnl\"] < 0][\"pnl\"].tail(100).min())\n",
    "        elif r1_param == \"AvgLoss100\":\n",
    "            r = abs(df[df[\"pnl\"] < 0][\"pnl\"].tail(100).mean())\n",
    "        elif isinstance(r1_param, int):\n",
    "            r = r1_param\n",
    "        return int(r)\n",
    "\n",
    "    print(set_r1('MaxLoss',df))\n",
    "    print(set_r1('AvgLoss',df))\n",
    "    print(set_r1('MaxLoss100',df))\n",
    "    print(set_r1('AvgLoss100',df))"
   ]
  },
  {
   "cell_type": "code",
   "execution_count": null,
   "id": "e7180424-1b6e-4e48-80f3-ba8bc632b668",
   "metadata": {},
   "outputs": [],
   "source": [
    "df[\"Rmult\"] = df[\"pnl\"] / set_r1('AvgLoss',df)\n",
    "df.sort_values('Rmult').tail(20)"
   ]
  },
  {
   "cell_type": "code",
   "execution_count": null,
   "id": "7ddf216d-a08d-4fff-ab90-bb4719c04857",
   "metadata": {},
   "outputs": [],
   "source": [
    "    def trades_df(self, r1_param=\"MaxLoss\"):\n",
    "        cum_pnl = 0\n",
    "        trades = []\n",
    "        for elm in self.root.findall(\"./Trades/\"):\n",
    "            a = {b.tag: b.text for b in elm.iter()}\n",
    "            if a[\"Type\"] in (\"LExit\", \"SExit\"):\n",
    "                trade = self.process_exit(trade, a)\n",
    "                cum_pnl += trade[\"pnl\"]\n",
    "                trade[\"cum_pnl\"] = cum_pnl\n",
    "                trades.append(trade)\n",
    "            elif a[\"Type\"] in (\"Buy\", \"Sell\"):\n",
    "                trade = self.process_entry(a)\n",
    "            else:\n",
    "                print(f\"WARNING: WARNING: type: {a['Type']} Not Recognized\")\n",
    "\n",
    "        df = pd.DataFrame.from_dict(trades)\n",
    "\n",
    "        ## add R1 multiplier column\n",
    "        self.r1 = round(self.set_r1(r1_param, df), 2)\n",
    "        df[\"Rmult\"] = df[\"pnl\"] / self.r1\n",
    "\n",
    "        self.pnt_mulipler = self.calc_pnt_multiplier(df)\n",
    "        self.number_trades = len(df.index)\n",
    "        self.sqn = self.calc_sqn(df)\n",
    "        self.sqn100 = self.calc_sqn(df, 100)\n",
    "        self.sqn_pnl = self.calc_sqn_pnl(df)\n",
    "        self.sqn100_pnl = self.calc_sqn_pnl(df, 100)\n",
    "        self.pareto = self.calc_pareto(df, percent_outcomes=80)\n",
    "        self.pareto_loses = self.calc_pareto(df, percent_outcomes=80, winning=False)\n",
    "\n",
    "        return df"
   ]
  },
  {
   "cell_type": "code",
   "execution_count": null,
   "id": "c640fb36-5143-4fbf-9bee-bc6993e53d0c",
   "metadata": {},
   "outputs": [],
   "source": [
    "    def set_max_excursions(r1_param):\n",
    "        t_df = self.trades_df(r1_param)\n",
    "        b_df = self.bars_df()\n",
    "        t_df['pdMaxClose'] = 0.0\n",
    "        t_df['pdMinClose'] = 0.0\n",
    "        t_df['pdMaxPrice'] = 0.0\n",
    "        t_df['pdMinPrice'] = 0.0\n",
    "        for i, row in t_df.iterrows():\n",
    "            entry_ts = row['entry_ts']\n",
    "            exit_ts = row['exit_ts']\n",
    "            max_close = b_df[(b_df.index>=entry_ts) & (b_df.index<=exit_ts)]['close'].max()\n",
    "            min_close = b_df[(b_df.index>=entry_ts) & (b_df.index<=exit_ts)]['close'].min()\n",
    "            max_px = b_df[(b_df.index>=entry_ts) & (b_df.index<=exit_ts)]['high'].max()\n",
    "            min_px = b_df[(b_df.index>=entry_ts) & (b_df.index<=exit_ts)]['low'].min()\n",
    "\n",
    "            t_df.at[i,'pdMaxClose'] = max_close\n",
    "            t_df.at[i,'pdMinClose'] = min_close\n",
    "            t_df.at[i,'pdMaxPrice'] = max_px\n",
    "            t_df.at[i,'pdMinPrice'] = min_px\n",
    "        t_df['entry_price'] = t_df['entry_price'].astype(float)\n",
    "        t_df.loc[t_df['entry_action']=='Buy','mae'] = (t_df['entry_price']-t_df['pdMinPrice']) * float(self.pnt_mulipler)\n",
    "        t_df.loc[t_df['entry_action']=='Buy','mfe'] = (t_df['pdMaxPrice']-t_df['entry_price']) * float(self.pnt_mulipler)\n",
    "        t_df.loc[t_df['entry_action']=='Short','mae'] = (t_df['pdMinPrice']-t_df['entry_price']) * float(self.pnt_mulipler)\n",
    "        t_df.loc[t_df['entry_action']=='Short','mfe'] = (t_df['entry_price']-t_df['pdMaxPrice']) * float(self.pnt_mulipler)\n",
    "        return t_df"
   ]
  },
  {
   "cell_type": "code",
   "execution_count": null,
   "id": "e121e6fc-66ec-4645-97fd-2f8a4e70e466",
   "metadata": {},
   "outputs": [],
   "source": [
    "df"
   ]
  },
  {
   "cell_type": "code",
   "execution_count": null,
   "id": "0ca13c81-3d64-47aa-a97a-8ccddd3b47ed",
   "metadata": {},
   "outputs": [],
   "source": [
    "df_ts = df.copy()"
   ]
  },
  {
   "cell_type": "code",
   "execution_count": null,
   "id": "acfa4aa8-1c43-4473-a305-c564b3bb7782",
   "metadata": {},
   "outputs": [],
   "source": [
    "import pandas as pd"
   ]
  },
  {
   "cell_type": "code",
   "execution_count": null,
   "id": "f47ddbac-fde2-435d-bcee-059841e01907",
   "metadata": {
    "tags": []
   },
   "outputs": [],
   "source": [
    "dt_ind = pd.DatetimeIndex(df_ts['EnDT'])"
   ]
  },
  {
   "cell_type": "code",
   "execution_count": null,
   "id": "7551ea0c-cdc1-4cf0-b55b-b50b80f50608",
   "metadata": {},
   "outputs": [],
   "source": [
    "df_ts.set_index(dt_ind,inplace=True)"
   ]
  },
  {
   "cell_type": "code",
   "execution_count": null,
   "id": "db3cb6cf-f922-41b8-8e49-73877095168d",
   "metadata": {},
   "outputs": [],
   "source": [
    "df_ts.index.max()"
   ]
  },
  {
   "cell_type": "code",
   "execution_count": null,
   "id": "e32e9736-3c8e-4170-b0ac-8e49b645e78f",
   "metadata": {},
   "outputs": [],
   "source": [
    "td = df_ts.index.max() - df_ts.index.min()"
   ]
  },
  {
   "cell_type": "code",
   "execution_count": null,
   "id": "4d141b75-82da-45c9-b460-61dffaf853a6",
   "metadata": {},
   "outputs": [],
   "source": [
    "df_ts.index.min()"
   ]
  },
  {
   "cell_type": "code",
   "execution_count": null,
   "id": "65a513e3-0745-4adf-93f6-b03af96e7955",
   "metadata": {},
   "outputs": [],
   "source": [
    "df2 = df.copy()"
   ]
  },
  {
   "cell_type": "code",
   "execution_count": null,
   "id": "6deb6e56-ac99-46fc-a9e4-344ac283a63a",
   "metadata": {},
   "outputs": [],
   "source": []
  },
  {
   "cell_type": "code",
   "execution_count": null,
   "id": "aac6383f-d92c-4267-a65d-9c0f540ae3c2",
   "metadata": {},
   "outputs": [],
   "source": [
    "df3 = df2.drop('entry_ts',axis=1,inplace=True)"
   ]
  },
  {
   "cell_type": "code",
   "execution_count": null,
   "id": "dc479ed9-75bf-42d2-8ad3-fb734d7f705f",
   "metadata": {},
   "outputs": [],
   "source": [
    "df2.reset_index()"
   ]
  },
  {
   "cell_type": "code",
   "execution_count": null,
   "id": "9d264611-1f80-4ad2-9695-9c086aaf83ca",
   "metadata": {
    "tags": []
   },
   "outputs": [],
   "source": [
    "df2 = df2.head(5)"
   ]
  },
  {
   "cell_type": "code",
   "execution_count": null,
   "id": "232debfe-cddc-494c-ad50-ec8ee5b8e01e",
   "metadata": {},
   "outputs": [],
   "source": [
    "df2.reset_index(inplace=True)"
   ]
  },
  {
   "cell_type": "code",
   "execution_count": null,
   "id": "9bccc2d8-3987-4ec6-9a86-a1fa77e9cf42",
   "metadata": {},
   "outputs": [],
   "source": [
    "df2"
   ]
  },
  {
   "cell_type": "code",
   "execution_count": null,
   "id": "61527d7b-d366-40ef-8a6b-418648235a2f",
   "metadata": {},
   "outputs": [],
   "source": [
    "df2.to_dict()"
   ]
  },
  {
   "cell_type": "code",
   "execution_count": null,
   "id": "c4aabce5-2b1a-45f4-befe-17d85831d157",
   "metadata": {},
   "outputs": [],
   "source": []
  }
 ],
 "metadata": {
  "kernelspec": {
   "display_name": "zts",
   "language": "python",
   "name": "zts"
  },
  "language_info": {
   "codemirror_mode": {
    "name": "ipython",
    "version": 3
   },
   "file_extension": ".py",
   "mimetype": "text/x-python",
   "name": "python",
   "nbconvert_exporter": "python",
   "pygments_lexer": "ipython3",
   "version": "3.9.7"
  }
 },
 "nbformat": 4,
 "nbformat_minor": 5
}
