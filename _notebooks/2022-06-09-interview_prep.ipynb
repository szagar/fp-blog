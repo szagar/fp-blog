{
 "cells": [
  {
   "cell_type": "markdown",
   "id": "2c037314-d483-41b4-912a-a86139a921ea",
   "metadata": {},
   "source": [
    "# Interview Preperation\n",
    "> Link and notes that may be helpful for interview prep.\n",
    "\n",
    "- toc: true\n",
    "- branch: master\n",
    "- badges: true\n",
    "- comments: true\n",
    "- author: Stephen Zagar\n",
    "- categories: [job, interview, notes]"
   ]
  },
  {
   "cell_type": "markdown",
   "id": "09342f95-8ecd-45a7-b346-b8fe8691a0e5",
   "metadata": {},
   "source": [
    "### Dynamic Programming\n",
    "* [leetcode](https://leetcode.com/)"
   ]
  },
  {
   "cell_type": "code",
   "execution_count": null,
   "id": "83387e4a-f149-4b93-9102-493db8280671",
   "metadata": {},
   "outputs": [],
   "source": []
  },
  {
   "cell_type": "code",
   "execution_count": null,
   "id": "44e33e21-f668-440d-8bc3-6c5a0c0bd7b5",
   "metadata": {},
   "outputs": [],
   "source": []
  }
 ],
 "metadata": {
  "kernelspec": {
   "display_name": "cv-venv",
   "language": "python",
   "name": "cv-venv"
  },
  "language_info": {
   "codemirror_mode": {
    "name": "ipython",
    "version": 3
   },
   "file_extension": ".py",
   "mimetype": "text/x-python",
   "name": "python",
   "nbconvert_exporter": "python",
   "pygments_lexer": "ipython3",
   "version": "3.9.7"
  }
 },
 "nbformat": 4,
 "nbformat_minor": 5
}
