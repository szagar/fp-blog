{
 "cells": [
  {
   "cell_type": "markdown",
   "id": "2c037314-d483-41b4-912a-a86139a921ea",
   "metadata": {},
   "source": [
    "# Interview Preperation\n",
    "> Link and notes that may be helpful for interview prep.\n",
    "\n",
    "- toc: true\n",
    "- branch: master\n",
    "- badges: true\n",
    "- comments: true\n",
    "- author: Stephen Zagar\n",
    "- categories: [job, interview, notes]"
   ]
  },
  {
   "cell_type": "markdown",
   "id": "09342f95-8ecd-45a7-b346-b8fe8691a0e5",
   "metadata": {},
   "source": [
    "### Dynamic Programming\n",
    "* [leetcode](https://leetcode.com/)\n",
    "* [AlgoExpert](https://www.algoexpert.io/data-structures)\n",
    "* [Dynamic Programming - Learn to Solve Algorithmic Problems & Coding Challenges](https://www.youtube.com/watch?v=oBt53YbR9Kk&t=13594s)\n",
    "* inverting a binary key\n",
    "* reverse linked list\n",
    "* suffix tree\n",
    "* min/max heap\n",
    "* merge sort"
   ]
  },
  {
   "cell_type": "markdown",
   "id": "9988cdd2-d51b-4551-80af-80d0d364450d",
   "metadata": {
    "tags": []
   },
   "source": [
    "#### DP notes\n",
    "* 2 types: memoirization & tabulation\n",
    "* example:\n",
    "\n",
    ">>\n",
    "**Minimum Steps to Minimize n to 1**<br>\n",
    "Given an integer n, return the minimum steps to minimize n to 1\n",
    "\n",
    "Avaliable steps are:\n",
    "- Decrement n by 1\n",
    "- if n is divisible by 2, then divide n by 2\n",
    "- if n is divisible by 3, then divide n by e\n",
    "\n",
    "Examples:\n",
    "- 10 => 3 steps (10 => 9 => 3 => 1)\n",
    "- 15 => 4 steps (15 => 5 => 4 => 2 => 1)\n",
    "```\n",
    "```"
   ]
  },
  {
   "cell_type": "raw",
   "id": "0ec1c25f-af2a-4800-8c8e-7dc4ebbcd7ad",
   "metadata": {},
   "source": [
    "6 - 5 - 4 - 3 - 2 - 1\n",
    "                  - 1 \n",
    "              - 1\n",
    "              "
   ]
  },
  {
   "cell_type": "code",
   "execution_count": 91,
   "id": "7fcb026d-222d-48b6-b2d9-4b630be7c8e7",
   "metadata": {},
   "outputs": [
    {
     "data": {
      "text/html": [
       "<pre style=\"white-space:pre;overflow-x:auto;line-height:normal;font-family:Menlo,'DejaVu Sans Mono',consolas,'Courier New',monospace\"><span style=\"color: #008080; text-decoration-color: #008080; font-weight: bold\">9</span>\n",
       "</pre>\n"
      ],
      "text/plain": [
       "\u001b[1;36m9\u001b[0m\n"
      ]
     },
     "metadata": {},
     "output_type": "display_data"
    }
   ],
   "source": [
    "#from functools import lru_cache\n",
    "\n",
    "#@lru_cache\n",
    "def f(n: int, memo: dict) -> int:\n",
    "    #print(f\"f({n})\")\n",
    "    if n == 1: return 0\n",
    "    if n in memo: return memo[n]\n",
    "    if n in (3,2): return 1\n",
    "    nsteps = f(n-1, memo)\n",
    "    if n%3 == 0:\n",
    "        nsteps = min(nsteps, f(n//3, memo))\n",
    "    if n%2 == 0:\n",
    "        nsteps = min(nsteps, f(n//2, memo))\n",
    "    #print(nsteps)\n",
    "    memo[n] = nsteps + 1\n",
    "    return memo[n]\n",
    "print(f(1000, {}))\n",
    "\n"
   ]
  },
  {
   "cell_type": "code",
   "execution_count": 122,
   "id": "2f45bd17-3b64-4754-bb41-c99f3a699a91",
   "metadata": {},
   "outputs": [
    {
     "data": {
      "text/html": [
       "<pre style=\"white-space:pre;overflow-x:auto;line-height:normal;font-family:Menlo,'DejaVu Sans Mono',consolas,'Courier New',monospace\"><span style=\"color: #008080; text-decoration-color: #008080; font-weight: bold\">3</span>\n",
       "</pre>\n"
      ],
      "text/plain": [
       "\u001b[1;36m3\u001b[0m\n"
      ]
     },
     "metadata": {},
     "output_type": "display_data"
    }
   ],
   "source": [
    "def f(n: int, memo: list[int]) -> int:\n",
    "    if n == 1: return 0\n",
    "    if memo[n]: return memo[n]\n",
    "    if n in (3,2): return 1\n",
    "    nsteps = f(n-1, memo)\n",
    "    if n%3 == 0:\n",
    "        nsteps = min(nsteps, f(n//3, memo))\n",
    "    if n%2 == 0:\n",
    "        nsteps = min(nsteps, f(n//2, memo))\n",
    "    #print(nsteps)\n",
    "    memo[n] = nsteps + 1\n",
    "    return memo[n]\n",
    "\n",
    "n = 10\n",
    "memo = [None] * (n+1)\n",
    "print(f(n, memo))\n"
   ]
  },
  {
   "cell_type": "markdown",
   "id": "3a0a4323-3d8c-4ce7-9433-9c9b1419a34e",
   "metadata": {},
   "source": [
    "##### via tabulation"
   ]
  },
  {
   "cell_type": "code",
   "execution_count": 127,
   "id": "072bf19f-2682-4484-bcf9-57fa6a67dcc9",
   "metadata": {},
   "outputs": [
    {
     "data": {
      "text/html": [
       "<pre style=\"white-space:pre;overflow-x:auto;line-height:normal;font-family:Menlo,'DejaVu Sans Mono',consolas,'Courier New',monospace\"><span style=\"font-weight: bold\">[</span><span style=\"color: #008080; text-decoration-color: #008080; font-weight: bold\">6</span>, <span style=\"color: #008080; text-decoration-color: #008080; font-weight: bold\">0</span>, <span style=\"color: #008080; text-decoration-color: #008080; font-weight: bold\">6</span>, <span style=\"color: #008080; text-decoration-color: #008080; font-weight: bold\">6</span>, <span style=\"color: #008080; text-decoration-color: #008080; font-weight: bold\">6</span>, <span style=\"color: #008080; text-decoration-color: #008080; font-weight: bold\">6</span>, <span style=\"color: #008080; text-decoration-color: #008080; font-weight: bold\">6</span><span style=\"font-weight: bold\">]</span>\n",
       "</pre>\n"
      ],
      "text/plain": [
       "\u001b[1m[\u001b[0m\u001b[1;36m6\u001b[0m, \u001b[1;36m0\u001b[0m, \u001b[1;36m6\u001b[0m, \u001b[1;36m6\u001b[0m, \u001b[1;36m6\u001b[0m, \u001b[1;36m6\u001b[0m, \u001b[1;36m6\u001b[0m\u001b[1m]\u001b[0m\n"
      ]
     },
     "metadata": {},
     "output_type": "display_data"
    },
    {
     "data": {
      "text/html": [
       "<pre style=\"white-space:pre;overflow-x:auto;line-height:normal;font-family:Menlo,'DejaVu Sans Mono',consolas,'Courier New',monospace\"><span style=\"color: #808000; text-decoration-color: #808000\">tbl_idx</span>=<span style=\"color: #008080; text-decoration-color: #008080; font-weight: bold\">1</span>\n",
       "</pre>\n"
      ],
      "text/plain": [
       "\u001b[33mtbl_idx\u001b[0m=\u001b[1;36m1\u001b[0m\n"
      ]
     },
     "metadata": {},
     "output_type": "display_data"
    },
    {
     "data": {
      "text/html": [
       "<pre style=\"white-space:pre;overflow-x:auto;line-height:normal;font-family:Menlo,'DejaVu Sans Mono',consolas,'Courier New',monospace\"><span style=\"font-weight: bold\">[</span><span style=\"color: #008080; text-decoration-color: #008080; font-weight: bold\">6</span>, <span style=\"color: #008080; text-decoration-color: #008080; font-weight: bold\">0</span>, <span style=\"color: #008080; text-decoration-color: #008080; font-weight: bold\">1</span>, <span style=\"color: #008080; text-decoration-color: #008080; font-weight: bold\">1</span>, <span style=\"color: #008080; text-decoration-color: #008080; font-weight: bold\">6</span>, <span style=\"color: #008080; text-decoration-color: #008080; font-weight: bold\">6</span>, <span style=\"color: #008080; text-decoration-color: #008080; font-weight: bold\">6</span><span style=\"font-weight: bold\">]</span>\n",
       "</pre>\n"
      ],
      "text/plain": [
       "\u001b[1m[\u001b[0m\u001b[1;36m6\u001b[0m, \u001b[1;36m0\u001b[0m, \u001b[1;36m1\u001b[0m, \u001b[1;36m1\u001b[0m, \u001b[1;36m6\u001b[0m, \u001b[1;36m6\u001b[0m, \u001b[1;36m6\u001b[0m\u001b[1m]\u001b[0m\n"
      ]
     },
     "metadata": {},
     "output_type": "display_data"
    },
    {
     "data": {
      "text/html": [
       "<pre style=\"white-space:pre;overflow-x:auto;line-height:normal;font-family:Menlo,'DejaVu Sans Mono',consolas,'Courier New',monospace\"><span style=\"color: #808000; text-decoration-color: #808000\">tbl_idx</span>=<span style=\"color: #008080; text-decoration-color: #008080; font-weight: bold\">2</span>\n",
       "</pre>\n"
      ],
      "text/plain": [
       "\u001b[33mtbl_idx\u001b[0m=\u001b[1;36m2\u001b[0m\n"
      ]
     },
     "metadata": {},
     "output_type": "display_data"
    },
    {
     "data": {
      "text/html": [
       "<pre style=\"white-space:pre;overflow-x:auto;line-height:normal;font-family:Menlo,'DejaVu Sans Mono',consolas,'Courier New',monospace\"><span style=\"font-weight: bold\">[</span><span style=\"color: #008080; text-decoration-color: #008080; font-weight: bold\">6</span>, <span style=\"color: #008080; text-decoration-color: #008080; font-weight: bold\">0</span>, <span style=\"color: #008080; text-decoration-color: #008080; font-weight: bold\">1</span>, <span style=\"color: #008080; text-decoration-color: #008080; font-weight: bold\">1</span>, <span style=\"color: #008080; text-decoration-color: #008080; font-weight: bold\">2</span>, <span style=\"color: #008080; text-decoration-color: #008080; font-weight: bold\">6</span>, <span style=\"color: #008080; text-decoration-color: #008080; font-weight: bold\">2</span><span style=\"font-weight: bold\">]</span>\n",
       "</pre>\n"
      ],
      "text/plain": [
       "\u001b[1m[\u001b[0m\u001b[1;36m6\u001b[0m, \u001b[1;36m0\u001b[0m, \u001b[1;36m1\u001b[0m, \u001b[1;36m1\u001b[0m, \u001b[1;36m2\u001b[0m, \u001b[1;36m6\u001b[0m, \u001b[1;36m2\u001b[0m\u001b[1m]\u001b[0m\n"
      ]
     },
     "metadata": {},
     "output_type": "display_data"
    },
    {
     "data": {
      "text/html": [
       "<pre style=\"white-space:pre;overflow-x:auto;line-height:normal;font-family:Menlo,'DejaVu Sans Mono',consolas,'Courier New',monospace\"><span style=\"color: #808000; text-decoration-color: #808000\">tbl_idx</span>=<span style=\"color: #008080; text-decoration-color: #008080; font-weight: bold\">3</span>\n",
       "</pre>\n"
      ],
      "text/plain": [
       "\u001b[33mtbl_idx\u001b[0m=\u001b[1;36m3\u001b[0m\n"
      ]
     },
     "metadata": {},
     "output_type": "display_data"
    },
    {
     "data": {
      "text/html": [
       "<pre style=\"white-space:pre;overflow-x:auto;line-height:normal;font-family:Menlo,'DejaVu Sans Mono',consolas,'Courier New',monospace\"><span style=\"font-weight: bold\">[</span><span style=\"color: #008080; text-decoration-color: #008080; font-weight: bold\">6</span>, <span style=\"color: #008080; text-decoration-color: #008080; font-weight: bold\">0</span>, <span style=\"color: #008080; text-decoration-color: #008080; font-weight: bold\">1</span>, <span style=\"color: #008080; text-decoration-color: #008080; font-weight: bold\">1</span>, <span style=\"color: #008080; text-decoration-color: #008080; font-weight: bold\">2</span>, <span style=\"color: #008080; text-decoration-color: #008080; font-weight: bold\">6</span>, <span style=\"color: #008080; text-decoration-color: #008080; font-weight: bold\">2</span><span style=\"font-weight: bold\">]</span>\n",
       "</pre>\n"
      ],
      "text/plain": [
       "\u001b[1m[\u001b[0m\u001b[1;36m6\u001b[0m, \u001b[1;36m0\u001b[0m, \u001b[1;36m1\u001b[0m, \u001b[1;36m1\u001b[0m, \u001b[1;36m2\u001b[0m, \u001b[1;36m6\u001b[0m, \u001b[1;36m2\u001b[0m\u001b[1m]\u001b[0m\n"
      ]
     },
     "metadata": {},
     "output_type": "display_data"
    },
    {
     "data": {
      "text/html": [
       "<pre style=\"white-space:pre;overflow-x:auto;line-height:normal;font-family:Menlo,'DejaVu Sans Mono',consolas,'Courier New',monospace\"><span style=\"color: #808000; text-decoration-color: #808000\">tbl_idx</span>=<span style=\"color: #008080; text-decoration-color: #008080; font-weight: bold\">4</span>\n",
       "</pre>\n"
      ],
      "text/plain": [
       "\u001b[33mtbl_idx\u001b[0m=\u001b[1;36m4\u001b[0m\n"
      ]
     },
     "metadata": {},
     "output_type": "display_data"
    },
    {
     "data": {
      "text/html": [
       "<pre style=\"white-space:pre;overflow-x:auto;line-height:normal;font-family:Menlo,'DejaVu Sans Mono',consolas,'Courier New',monospace\"><span style=\"font-weight: bold\">[</span><span style=\"color: #008080; text-decoration-color: #008080; font-weight: bold\">6</span>, <span style=\"color: #008080; text-decoration-color: #008080; font-weight: bold\">0</span>, <span style=\"color: #008080; text-decoration-color: #008080; font-weight: bold\">1</span>, <span style=\"color: #008080; text-decoration-color: #008080; font-weight: bold\">1</span>, <span style=\"color: #008080; text-decoration-color: #008080; font-weight: bold\">2</span>, <span style=\"color: #008080; text-decoration-color: #008080; font-weight: bold\">3</span>, <span style=\"color: #008080; text-decoration-color: #008080; font-weight: bold\">2</span><span style=\"font-weight: bold\">]</span>\n",
       "</pre>\n"
      ],
      "text/plain": [
       "\u001b[1m[\u001b[0m\u001b[1;36m6\u001b[0m, \u001b[1;36m0\u001b[0m, \u001b[1;36m1\u001b[0m, \u001b[1;36m1\u001b[0m, \u001b[1;36m2\u001b[0m, \u001b[1;36m3\u001b[0m, \u001b[1;36m2\u001b[0m\u001b[1m]\u001b[0m\n"
      ]
     },
     "metadata": {},
     "output_type": "display_data"
    },
    {
     "data": {
      "text/html": [
       "<pre style=\"white-space:pre;overflow-x:auto;line-height:normal;font-family:Menlo,'DejaVu Sans Mono',consolas,'Courier New',monospace\"><span style=\"color: #808000; text-decoration-color: #808000\">tbl_idx</span>=<span style=\"color: #008080; text-decoration-color: #008080; font-weight: bold\">5</span>\n",
       "</pre>\n"
      ],
      "text/plain": [
       "\u001b[33mtbl_idx\u001b[0m=\u001b[1;36m5\u001b[0m\n"
      ]
     },
     "metadata": {},
     "output_type": "display_data"
    },
    {
     "data": {
      "text/html": [
       "<pre style=\"white-space:pre;overflow-x:auto;line-height:normal;font-family:Menlo,'DejaVu Sans Mono',consolas,'Courier New',monospace\"><span style=\"font-weight: bold\">[</span><span style=\"color: #008080; text-decoration-color: #008080; font-weight: bold\">6</span>, <span style=\"color: #008080; text-decoration-color: #008080; font-weight: bold\">0</span>, <span style=\"color: #008080; text-decoration-color: #008080; font-weight: bold\">1</span>, <span style=\"color: #008080; text-decoration-color: #008080; font-weight: bold\">1</span>, <span style=\"color: #008080; text-decoration-color: #008080; font-weight: bold\">2</span>, <span style=\"color: #008080; text-decoration-color: #008080; font-weight: bold\">3</span>, <span style=\"color: #008080; text-decoration-color: #008080; font-weight: bold\">2</span><span style=\"font-weight: bold\">]</span>\n",
       "</pre>\n"
      ],
      "text/plain": [
       "\u001b[1m[\u001b[0m\u001b[1;36m6\u001b[0m, \u001b[1;36m0\u001b[0m, \u001b[1;36m1\u001b[0m, \u001b[1;36m1\u001b[0m, \u001b[1;36m2\u001b[0m, \u001b[1;36m3\u001b[0m, \u001b[1;36m2\u001b[0m\u001b[1m]\u001b[0m\n"
      ]
     },
     "metadata": {},
     "output_type": "display_data"
    },
    {
     "data": {
      "text/html": [
       "<pre style=\"white-space:pre;overflow-x:auto;line-height:normal;font-family:Menlo,'DejaVu Sans Mono',consolas,'Courier New',monospace\"><span style=\"color: #008080; text-decoration-color: #008080; font-weight: bold\">2</span>\n",
       "</pre>\n"
      ],
      "text/plain": [
       "\u001b[1;36m2\u001b[0m\n"
      ]
     },
     "metadata": {},
     "output_type": "display_data"
    }
   ],
   "source": [
    "def f(n: int) -> int:\n",
    "    tbl = [n] * (n+1)\n",
    "    tbl[1] = 0\n",
    "    print(tbl)\n",
    "    for tbl_idx in range(1,n):\n",
    "        print(f\"tbl_idx={tbl_idx}\")\n",
    "        tbl[tbl_idx+1] = min(tbl[tbl_idx+1], tbl[tbl_idx] + 1)\n",
    "        \n",
    "        if tbl_idx*2 <= n and tbl[tbl_idx*2]%2 == 0:\n",
    "            tbl[tbl_idx*2] = min(tbl[tbl_idx*2], tbl[tbl_idx] + 1)\n",
    "        if tbl_idx*3 <= n and tbl[tbl_idx*3]%3 == 0:\n",
    "            tbl[tbl_idx*3] = min(tbl[tbl_idx*3], tbl[tbl_idx] + 1)\n",
    "        print(tbl)\n",
    "    return tbl[n]\n",
    "\n",
    "print( f(6) )"
   ]
  },
  {
   "cell_type": "markdown",
   "id": "d0e43a02-3219-4cb7-b6fc-6213690d4c81",
   "metadata": {},
   "source": [
    "#### Initialize array"
   ]
  },
  {
   "cell_type": "code",
   "execution_count": 13,
   "id": "44e33e21-f668-440d-8bc3-6c5a0c0bd7b5",
   "metadata": {},
   "outputs": [],
   "source": [
    "ar = [[r*c for c in range(1,5)] for r in range(1,3)]"
   ]
  },
  {
   "cell_type": "code",
   "execution_count": 14,
   "id": "f80d9aba-fafc-4e0f-bd09-c45e764c4245",
   "metadata": {},
   "outputs": [
    {
     "data": {
      "text/plain": [
       "[[1, 2, 3, 4], [2, 4, 6, 8]]"
      ]
     },
     "execution_count": 14,
     "metadata": {},
     "output_type": "execute_result"
    }
   ],
   "source": [
    "ar"
   ]
  },
  {
   "cell_type": "markdown",
   "id": "66a4205d-73d0-4c32-aeb2-5fd4ac2da930",
   "metadata": {},
   "source": [
    "#### Target Sum (tabulation)"
   ]
  },
  {
   "cell_type": "code",
   "execution_count": 32,
   "id": "caa981af-05b2-4976-b9bf-c890ccb77b55",
   "metadata": {},
   "outputs": [
    {
     "name": "stdout",
     "output_type": "stream",
     "text": [
      "[True, False, False, False, False, True, False, False]\n",
      "[True, False, False, True, False, True, False, False]\n",
      "[True, False, False, True, True, True, False, False]\n",
      "[True, False, False, True, True, True, True, False]\n",
      "[True, False, False, True, True, True, True, True]\n",
      "[True, False, False, True, True, True, True, True]\n",
      "True\n"
     ]
    }
   ],
   "source": [
    "def target_sum(tgt: int, arr: list[int]) -> bool:\n",
    "    sums = [False] * (tgt+1)\n",
    "    sums[0] = True\n",
    "    for s in range(len(sums)):\n",
    "        if not sums[s]:\n",
    "            continue\n",
    "        for value in arr:\n",
    "            new_sum = s+value\n",
    "            #if new_sum == tgt:\n",
    "            #    return True\n",
    "            if new_sum > tgt:\n",
    "                continue\n",
    "            sums[new_sum] = True\n",
    "            print(sums)\n",
    "    return sums[tgt]\n",
    "\n",
    "print(target_sum(7, [5,3,4]))"
   ]
  },
  {
   "cell_type": "markdown",
   "id": "21abb8da-2b82-48da-8597-9db39db2eb21",
   "metadata": {
    "tags": []
   },
   "source": [
    "### how_sum (tabulation)\n",
    "* how_sum(target_sum, numbers)\n",
    "* return an array containing any combination of elements taht add up to target_sum\n",
    "* if there is no combination that adds to target_sum, then return null\n",
    "* if there are multiple combinations, return any single combo\n",
    "* how_sum(7, [5, 3, 4]) -> [4, 3]"
   ]
  },
  {
   "cell_type": "code",
   "execution_count": 22,
   "id": "187317fe-d6af-4403-a26d-e0d0675065a3",
   "metadata": {},
   "outputs": [],
   "source": [
    "#from collections import defaultdict\n",
    "from rich import print\n",
    "\n",
    "def how_sum(target_sum: int, numbers: list[int]) -> list[int]:\n",
    "    #sums = defaultdict(list)\n",
    "    sums = {_: [] for _ in range(target_sum+1)}\n",
    "    #sums = {_: None for _ in range(target_sum+1)}\n",
    "    sums[0] = [[]]\n",
    "    for sum in sums.keys():\n",
    "        if not sums[sum]:\n",
    "            continue\n",
    "        for number in numbers:\n",
    "            new_sum = number+sum\n",
    "            if new_sum > target_sum:\n",
    "                continue\n",
    "            for prev_sum in sums[sum]:\n",
    "                if prev_sum is None: continue\n",
    "                params = prev_sum.copy()\n",
    "                params.append(number)\n",
    "                sums[new_sum].append(params)\n",
    "                break\n",
    "            #print(sums)\n",
    "            \n",
    "    return sums[target_sum][0] if sums[target_sum] else None"
   ]
  },
  {
   "cell_type": "code",
   "execution_count": 28,
   "id": "31ff9537-91fa-4689-8abd-c56f7d01ee73",
   "metadata": {},
   "outputs": [
    {
     "data": {
      "text/html": [
       "<pre style=\"white-space:pre;overflow-x:auto;line-height:normal;font-family:Menlo,'DejaVu Sans Mono',consolas,'Courier New',monospace\"><span style=\"font-weight: bold\">[</span><span style=\"color: #008080; text-decoration-color: #008080; font-weight: bold\">3</span>, <span style=\"color: #008080; text-decoration-color: #008080; font-weight: bold\">3</span>, <span style=\"color: #008080; text-decoration-color: #008080; font-weight: bold\">5</span>, <span style=\"color: #008080; text-decoration-color: #008080; font-weight: bold\">5</span>, <span style=\"color: #008080; text-decoration-color: #008080; font-weight: bold\">5</span>, <span style=\"color: #008080; text-decoration-color: #008080; font-weight: bold\">5</span>, <span style=\"color: #008080; text-decoration-color: #008080; font-weight: bold\">5</span>, <span style=\"color: #008080; text-decoration-color: #008080; font-weight: bold\">5</span>, <span style=\"color: #008080; text-decoration-color: #008080; font-weight: bold\">5</span>, <span style=\"color: #008080; text-decoration-color: #008080; font-weight: bold\">5</span>, <span style=\"color: #008080; text-decoration-color: #008080; font-weight: bold\">5</span>, <span style=\"color: #008080; text-decoration-color: #008080; font-weight: bold\">5</span>, <span style=\"color: #008080; text-decoration-color: #008080; font-weight: bold\">5</span>, <span style=\"color: #008080; text-decoration-color: #008080; font-weight: bold\">5</span>, <span style=\"color: #008080; text-decoration-color: #008080; font-weight: bold\">5</span>, <span style=\"color: #008080; text-decoration-color: #008080; font-weight: bold\">5</span>, <span style=\"color: #008080; text-decoration-color: #008080; font-weight: bold\">5</span>, <span style=\"color: #008080; text-decoration-color: #008080; font-weight: bold\">5</span>, <span style=\"color: #008080; text-decoration-color: #008080; font-weight: bold\">5</span>, <span style=\"color: #008080; text-decoration-color: #008080; font-weight: bold\">5</span>, <span style=\"color: #008080; text-decoration-color: #008080; font-weight: bold\">5</span>, <span style=\"color: #008080; text-decoration-color: #008080; font-weight: bold\">5</span>, <span style=\"color: #008080; text-decoration-color: #008080; font-weight: bold\">5</span>, <span style=\"color: #008080; text-decoration-color: #008080; font-weight: bold\">5</span>, <span style=\"color: #008080; text-decoration-color: #008080; font-weight: bold\">5</span><span style=\"font-weight: bold\">]</span>\n",
       "</pre>\n"
      ],
      "text/plain": [
       "\u001b[1m[\u001b[0m\u001b[1;36m3\u001b[0m, \u001b[1;36m3\u001b[0m, \u001b[1;36m5\u001b[0m, \u001b[1;36m5\u001b[0m, \u001b[1;36m5\u001b[0m, \u001b[1;36m5\u001b[0m, \u001b[1;36m5\u001b[0m, \u001b[1;36m5\u001b[0m, \u001b[1;36m5\u001b[0m, \u001b[1;36m5\u001b[0m, \u001b[1;36m5\u001b[0m, \u001b[1;36m5\u001b[0m, \u001b[1;36m5\u001b[0m, \u001b[1;36m5\u001b[0m, \u001b[1;36m5\u001b[0m, \u001b[1;36m5\u001b[0m, \u001b[1;36m5\u001b[0m, \u001b[1;36m5\u001b[0m, \u001b[1;36m5\u001b[0m, \u001b[1;36m5\u001b[0m, \u001b[1;36m5\u001b[0m, \u001b[1;36m5\u001b[0m, \u001b[1;36m5\u001b[0m, \u001b[1;36m5\u001b[0m, \u001b[1;36m5\u001b[0m\u001b[1m]\u001b[0m\n"
      ]
     },
     "metadata": {},
     "output_type": "display_data"
    }
   ],
   "source": [
    "print(how_sum(121, [5,4,3]))"
   ]
  },
  {
   "cell_type": "markdown",
   "id": "ddead01e-b5a8-48c3-a206-e971d4ef6eeb",
   "metadata": {},
   "source": [
    "#### best_sum (tabulation)\n",
    "* best_sum(target_sum, numbers) -> list[int]\n",
    "* returns array containing shortest combonation of numbers that sum to target_sum\n",
    "* if there's a tie, return either"
   ]
  },
  {
   "cell_type": "code",
   "execution_count": 45,
   "id": "18389a2e-1b70-4992-a543-27e5f2f56e54",
   "metadata": {},
   "outputs": [],
   "source": [
    "def best_sum(target_sum: int, numbers: list[int]) -> list[int]:\n",
    "    #sums = {_: [] for _ in range(target_sum+1)}\n",
    "    sums = {_: None for _ in range(target_sum+1)}\n",
    "    sums[0] = []\n",
    "    for sum in sums.keys():\n",
    "        if sums[sum] is None:\n",
    "            continue\n",
    "        for number in numbers:\n",
    "            new_sum = number+sum\n",
    "            if new_sum > target_sum:\n",
    "                continue\n",
    "            #prev_sum = sums[sum]\n",
    "            #    if prev_sum is None: continue\n",
    "            params = sums[sum].copy()\n",
    "            params.append(number)\n",
    "            if not sums[new_sum] or len(params) < len(sums[new_sum]):\n",
    "                sums[new_sum] = params\n",
    "            #print(sums)\n",
    "            \n",
    "    return sums[target_sum] if sums[target_sum] else None"
   ]
  },
  {
   "cell_type": "code",
   "execution_count": 59,
   "id": "b935a875-199e-418c-af07-6fb1880f10ec",
   "metadata": {},
   "outputs": [
    {
     "data": {
      "text/html": [
       "<pre style=\"white-space:pre;overflow-x:auto;line-height:normal;font-family:Menlo,'DejaVu Sans Mono',consolas,'Courier New',monospace\"><span style=\"color: #008080; text-decoration-color: #008080; font-weight: bold\">44</span>\n",
       "<span style=\"font-weight: bold\">[</span>\n",
       "    <span style=\"color: #008080; text-decoration-color: #008080; font-weight: bold\">17</span>,\n",
       "    <span style=\"color: #008080; text-decoration-color: #008080; font-weight: bold\">17</span>,\n",
       "    <span style=\"color: #008080; text-decoration-color: #008080; font-weight: bold\">23</span>,\n",
       "    <span style=\"color: #008080; text-decoration-color: #008080; font-weight: bold\">23</span>,\n",
       "    <span style=\"color: #008080; text-decoration-color: #008080; font-weight: bold\">23</span>,\n",
       "    <span style=\"color: #008080; text-decoration-color: #008080; font-weight: bold\">23</span>,\n",
       "    <span style=\"color: #008080; text-decoration-color: #008080; font-weight: bold\">23</span>,\n",
       "    <span style=\"color: #008080; text-decoration-color: #008080; font-weight: bold\">23</span>,\n",
       "    <span style=\"color: #008080; text-decoration-color: #008080; font-weight: bold\">23</span>,\n",
       "    <span style=\"color: #008080; text-decoration-color: #008080; font-weight: bold\">23</span>,\n",
       "    <span style=\"color: #008080; text-decoration-color: #008080; font-weight: bold\">23</span>,\n",
       "    <span style=\"color: #008080; text-decoration-color: #008080; font-weight: bold\">23</span>,\n",
       "    <span style=\"color: #008080; text-decoration-color: #008080; font-weight: bold\">23</span>,\n",
       "    <span style=\"color: #008080; text-decoration-color: #008080; font-weight: bold\">23</span>,\n",
       "    <span style=\"color: #008080; text-decoration-color: #008080; font-weight: bold\">23</span>,\n",
       "    <span style=\"color: #008080; text-decoration-color: #008080; font-weight: bold\">23</span>,\n",
       "    <span style=\"color: #008080; text-decoration-color: #008080; font-weight: bold\">23</span>,\n",
       "    <span style=\"color: #008080; text-decoration-color: #008080; font-weight: bold\">23</span>,\n",
       "    <span style=\"color: #008080; text-decoration-color: #008080; font-weight: bold\">23</span>,\n",
       "    <span style=\"color: #008080; text-decoration-color: #008080; font-weight: bold\">23</span>,\n",
       "    <span style=\"color: #008080; text-decoration-color: #008080; font-weight: bold\">23</span>,\n",
       "    <span style=\"color: #008080; text-decoration-color: #008080; font-weight: bold\">23</span>,\n",
       "    <span style=\"color: #008080; text-decoration-color: #008080; font-weight: bold\">23</span>,\n",
       "    <span style=\"color: #008080; text-decoration-color: #008080; font-weight: bold\">23</span>,\n",
       "    <span style=\"color: #008080; text-decoration-color: #008080; font-weight: bold\">23</span>,\n",
       "    <span style=\"color: #008080; text-decoration-color: #008080; font-weight: bold\">23</span>,\n",
       "    <span style=\"color: #008080; text-decoration-color: #008080; font-weight: bold\">23</span>,\n",
       "    <span style=\"color: #008080; text-decoration-color: #008080; font-weight: bold\">23</span>,\n",
       "    <span style=\"color: #008080; text-decoration-color: #008080; font-weight: bold\">23</span>,\n",
       "    <span style=\"color: #008080; text-decoration-color: #008080; font-weight: bold\">23</span>,\n",
       "    <span style=\"color: #008080; text-decoration-color: #008080; font-weight: bold\">23</span>,\n",
       "    <span style=\"color: #008080; text-decoration-color: #008080; font-weight: bold\">23</span>,\n",
       "    <span style=\"color: #008080; text-decoration-color: #008080; font-weight: bold\">23</span>,\n",
       "    <span style=\"color: #008080; text-decoration-color: #008080; font-weight: bold\">23</span>,\n",
       "    <span style=\"color: #008080; text-decoration-color: #008080; font-weight: bold\">23</span>,\n",
       "    <span style=\"color: #008080; text-decoration-color: #008080; font-weight: bold\">23</span>,\n",
       "    <span style=\"color: #008080; text-decoration-color: #008080; font-weight: bold\">23</span>,\n",
       "    <span style=\"color: #008080; text-decoration-color: #008080; font-weight: bold\">23</span>,\n",
       "    <span style=\"color: #008080; text-decoration-color: #008080; font-weight: bold\">23</span>,\n",
       "    <span style=\"color: #008080; text-decoration-color: #008080; font-weight: bold\">23</span>,\n",
       "    <span style=\"color: #008080; text-decoration-color: #008080; font-weight: bold\">23</span>,\n",
       "    <span style=\"color: #008080; text-decoration-color: #008080; font-weight: bold\">23</span>,\n",
       "    <span style=\"color: #008080; text-decoration-color: #008080; font-weight: bold\">23</span>,\n",
       "    <span style=\"color: #008080; text-decoration-color: #008080; font-weight: bold\">23</span>\n",
       "<span style=\"font-weight: bold\">]</span>\n",
       "</pre>\n"
      ],
      "text/plain": [
       "\u001b[1;36m44\u001b[0m\n",
       "\u001b[1m[\u001b[0m\n",
       "    \u001b[1;36m17\u001b[0m,\n",
       "    \u001b[1;36m17\u001b[0m,\n",
       "    \u001b[1;36m23\u001b[0m,\n",
       "    \u001b[1;36m23\u001b[0m,\n",
       "    \u001b[1;36m23\u001b[0m,\n",
       "    \u001b[1;36m23\u001b[0m,\n",
       "    \u001b[1;36m23\u001b[0m,\n",
       "    \u001b[1;36m23\u001b[0m,\n",
       "    \u001b[1;36m23\u001b[0m,\n",
       "    \u001b[1;36m23\u001b[0m,\n",
       "    \u001b[1;36m23\u001b[0m,\n",
       "    \u001b[1;36m23\u001b[0m,\n",
       "    \u001b[1;36m23\u001b[0m,\n",
       "    \u001b[1;36m23\u001b[0m,\n",
       "    \u001b[1;36m23\u001b[0m,\n",
       "    \u001b[1;36m23\u001b[0m,\n",
       "    \u001b[1;36m23\u001b[0m,\n",
       "    \u001b[1;36m23\u001b[0m,\n",
       "    \u001b[1;36m23\u001b[0m,\n",
       "    \u001b[1;36m23\u001b[0m,\n",
       "    \u001b[1;36m23\u001b[0m,\n",
       "    \u001b[1;36m23\u001b[0m,\n",
       "    \u001b[1;36m23\u001b[0m,\n",
       "    \u001b[1;36m23\u001b[0m,\n",
       "    \u001b[1;36m23\u001b[0m,\n",
       "    \u001b[1;36m23\u001b[0m,\n",
       "    \u001b[1;36m23\u001b[0m,\n",
       "    \u001b[1;36m23\u001b[0m,\n",
       "    \u001b[1;36m23\u001b[0m,\n",
       "    \u001b[1;36m23\u001b[0m,\n",
       "    \u001b[1;36m23\u001b[0m,\n",
       "    \u001b[1;36m23\u001b[0m,\n",
       "    \u001b[1;36m23\u001b[0m,\n",
       "    \u001b[1;36m23\u001b[0m,\n",
       "    \u001b[1;36m23\u001b[0m,\n",
       "    \u001b[1;36m23\u001b[0m,\n",
       "    \u001b[1;36m23\u001b[0m,\n",
       "    \u001b[1;36m23\u001b[0m,\n",
       "    \u001b[1;36m23\u001b[0m,\n",
       "    \u001b[1;36m23\u001b[0m,\n",
       "    \u001b[1;36m23\u001b[0m,\n",
       "    \u001b[1;36m23\u001b[0m,\n",
       "    \u001b[1;36m23\u001b[0m,\n",
       "    \u001b[1;36m23\u001b[0m\n",
       "\u001b[1m]\u001b[0m\n"
      ]
     },
     "metadata": {},
     "output_type": "display_data"
    }
   ],
   "source": [
    "rslt = best_sum(1000, [5,4,6,7,8,9,10,14,17,23])\n",
    "print(len(rslt),rslt)"
   ]
  },
  {
   "cell_type": "markdown",
   "id": "c5041415-6614-4f84-a114-524dfaa48c03",
   "metadata": {},
   "source": [
    "#### can_construnct (tabulation)\n",
    "* can_construct(target: str, word_bank: list[str]) -> bool:\n",
    "* return true if target can be constructed from strings in word_bank\n",
    "* may reuse elements\n",
    "* can_construct('abcdef', ['ab', 'abc', 'cd', 'def', 'abcd']) --> True"
   ]
  },
  {
   "cell_type": "code",
   "execution_count": 76,
   "id": "ce964112-f901-4d6f-b020-e9ee67d531d9",
   "metadata": {},
   "outputs": [
    {
     "data": {
      "text/html": [
       "<pre style=\"white-space:pre;overflow-x:auto;line-height:normal;font-family:Menlo,'DejaVu Sans Mono',consolas,'Courier New',monospace\">slice: ab <span style=\"color: #808000; text-decoration-color: #808000\">n</span>=<span style=\"color: #008080; text-decoration-color: #008080; font-weight: bold\">2</span> <span style=\"color: #808000; text-decoration-color: #808000\">w</span>=<span style=\"color: #800080; text-decoration-color: #800080\">ab</span>\n",
       "</pre>\n"
      ],
      "text/plain": [
       "slice: ab \u001b[33mn\u001b[0m=\u001b[1;36m2\u001b[0m \u001b[33mw\u001b[0m=\u001b[35mab\u001b[0m\n"
      ]
     },
     "metadata": {},
     "output_type": "display_data"
    },
    {
     "data": {
      "text/html": [
       "<pre style=\"white-space:pre;overflow-x:auto;line-height:normal;font-family:Menlo,'DejaVu Sans Mono',consolas,'Courier New',monospace\"><span style=\"font-weight: bold\">[</span><span style=\"color: #00ff00; text-decoration-color: #00ff00; font-style: italic\">True</span>, <span style=\"color: #ff0000; text-decoration-color: #ff0000; font-style: italic\">False</span>, <span style=\"color: #00ff00; text-decoration-color: #00ff00; font-style: italic\">True</span>, <span style=\"color: #ff0000; text-decoration-color: #ff0000; font-style: italic\">False</span>, <span style=\"color: #ff0000; text-decoration-color: #ff0000; font-style: italic\">False</span>, <span style=\"color: #ff0000; text-decoration-color: #ff0000; font-style: italic\">False</span>, <span style=\"color: #ff0000; text-decoration-color: #ff0000; font-style: italic\">False</span><span style=\"font-weight: bold\">]</span>\n",
       "</pre>\n"
      ],
      "text/plain": [
       "\u001b[1m[\u001b[0m\u001b[3;92mTrue\u001b[0m, \u001b[3;91mFalse\u001b[0m, \u001b[3;92mTrue\u001b[0m, \u001b[3;91mFalse\u001b[0m, \u001b[3;91mFalse\u001b[0m, \u001b[3;91mFalse\u001b[0m, \u001b[3;91mFalse\u001b[0m\u001b[1m]\u001b[0m\n"
      ]
     },
     "metadata": {},
     "output_type": "display_data"
    },
    {
     "data": {
      "text/html": [
       "<pre style=\"white-space:pre;overflow-x:auto;line-height:normal;font-family:Menlo,'DejaVu Sans Mono',consolas,'Courier New',monospace\">slice: abc <span style=\"color: #808000; text-decoration-color: #808000\">n</span>=<span style=\"color: #008080; text-decoration-color: #008080; font-weight: bold\">3</span> <span style=\"color: #808000; text-decoration-color: #808000\">w</span>=<span style=\"color: #800080; text-decoration-color: #800080\">abc</span>\n",
       "</pre>\n"
      ],
      "text/plain": [
       "slice: abc \u001b[33mn\u001b[0m=\u001b[1;36m3\u001b[0m \u001b[33mw\u001b[0m=\u001b[35mabc\u001b[0m\n"
      ]
     },
     "metadata": {},
     "output_type": "display_data"
    },
    {
     "data": {
      "text/html": [
       "<pre style=\"white-space:pre;overflow-x:auto;line-height:normal;font-family:Menlo,'DejaVu Sans Mono',consolas,'Courier New',monospace\"><span style=\"font-weight: bold\">[</span><span style=\"color: #00ff00; text-decoration-color: #00ff00; font-style: italic\">True</span>, <span style=\"color: #ff0000; text-decoration-color: #ff0000; font-style: italic\">False</span>, <span style=\"color: #00ff00; text-decoration-color: #00ff00; font-style: italic\">True</span>, <span style=\"color: #00ff00; text-decoration-color: #00ff00; font-style: italic\">True</span>, <span style=\"color: #ff0000; text-decoration-color: #ff0000; font-style: italic\">False</span>, <span style=\"color: #ff0000; text-decoration-color: #ff0000; font-style: italic\">False</span>, <span style=\"color: #ff0000; text-decoration-color: #ff0000; font-style: italic\">False</span><span style=\"font-weight: bold\">]</span>\n",
       "</pre>\n"
      ],
      "text/plain": [
       "\u001b[1m[\u001b[0m\u001b[3;92mTrue\u001b[0m, \u001b[3;91mFalse\u001b[0m, \u001b[3;92mTrue\u001b[0m, \u001b[3;92mTrue\u001b[0m, \u001b[3;91mFalse\u001b[0m, \u001b[3;91mFalse\u001b[0m, \u001b[3;91mFalse\u001b[0m\u001b[1m]\u001b[0m\n"
      ]
     },
     "metadata": {},
     "output_type": "display_data"
    },
    {
     "data": {
      "text/html": [
       "<pre style=\"white-space:pre;overflow-x:auto;line-height:normal;font-family:Menlo,'DejaVu Sans Mono',consolas,'Courier New',monospace\">slice: ab <span style=\"color: #808000; text-decoration-color: #808000\">n</span>=<span style=\"color: #008080; text-decoration-color: #008080; font-weight: bold\">2</span> <span style=\"color: #808000; text-decoration-color: #808000\">w</span>=<span style=\"color: #800080; text-decoration-color: #800080\">cd</span>\n",
       "</pre>\n"
      ],
      "text/plain": [
       "slice: ab \u001b[33mn\u001b[0m=\u001b[1;36m2\u001b[0m \u001b[33mw\u001b[0m=\u001b[35mcd\u001b[0m\n"
      ]
     },
     "metadata": {},
     "output_type": "display_data"
    },
    {
     "data": {
      "text/html": [
       "<pre style=\"white-space:pre;overflow-x:auto;line-height:normal;font-family:Menlo,'DejaVu Sans Mono',consolas,'Courier New',monospace\">slice: abc <span style=\"color: #808000; text-decoration-color: #808000\">n</span>=<span style=\"color: #008080; text-decoration-color: #008080; font-weight: bold\">3</span> <span style=\"color: #808000; text-decoration-color: #808000\">w</span>=<span style=\"color: #800080; text-decoration-color: #800080\">def</span>\n",
       "</pre>\n"
      ],
      "text/plain": [
       "slice: abc \u001b[33mn\u001b[0m=\u001b[1;36m3\u001b[0m \u001b[33mw\u001b[0m=\u001b[35mdef\u001b[0m\n"
      ]
     },
     "metadata": {},
     "output_type": "display_data"
    },
    {
     "data": {
      "text/html": [
       "<pre style=\"white-space:pre;overflow-x:auto;line-height:normal;font-family:Menlo,'DejaVu Sans Mono',consolas,'Courier New',monospace\">slice: abcd <span style=\"color: #808000; text-decoration-color: #808000\">n</span>=<span style=\"color: #008080; text-decoration-color: #008080; font-weight: bold\">4</span> <span style=\"color: #808000; text-decoration-color: #808000\">w</span>=<span style=\"color: #800080; text-decoration-color: #800080\">abcd</span>\n",
       "</pre>\n"
      ],
      "text/plain": [
       "slice: abcd \u001b[33mn\u001b[0m=\u001b[1;36m4\u001b[0m \u001b[33mw\u001b[0m=\u001b[35mabcd\u001b[0m\n"
      ]
     },
     "metadata": {},
     "output_type": "display_data"
    },
    {
     "data": {
      "text/html": [
       "<pre style=\"white-space:pre;overflow-x:auto;line-height:normal;font-family:Menlo,'DejaVu Sans Mono',consolas,'Courier New',monospace\"><span style=\"font-weight: bold\">[</span><span style=\"color: #00ff00; text-decoration-color: #00ff00; font-style: italic\">True</span>, <span style=\"color: #ff0000; text-decoration-color: #ff0000; font-style: italic\">False</span>, <span style=\"color: #00ff00; text-decoration-color: #00ff00; font-style: italic\">True</span>, <span style=\"color: #00ff00; text-decoration-color: #00ff00; font-style: italic\">True</span>, <span style=\"color: #00ff00; text-decoration-color: #00ff00; font-style: italic\">True</span>, <span style=\"color: #ff0000; text-decoration-color: #ff0000; font-style: italic\">False</span>, <span style=\"color: #ff0000; text-decoration-color: #ff0000; font-style: italic\">False</span><span style=\"font-weight: bold\">]</span>\n",
       "</pre>\n"
      ],
      "text/plain": [
       "\u001b[1m[\u001b[0m\u001b[3;92mTrue\u001b[0m, \u001b[3;91mFalse\u001b[0m, \u001b[3;92mTrue\u001b[0m, \u001b[3;92mTrue\u001b[0m, \u001b[3;92mTrue\u001b[0m, \u001b[3;91mFalse\u001b[0m, \u001b[3;91mFalse\u001b[0m\u001b[1m]\u001b[0m\n"
      ]
     },
     "metadata": {},
     "output_type": "display_data"
    },
    {
     "data": {
      "text/html": [
       "<pre style=\"white-space:pre;overflow-x:auto;line-height:normal;font-family:Menlo,'DejaVu Sans Mono',consolas,'Courier New',monospace\">skip\n",
       "</pre>\n"
      ],
      "text/plain": [
       "skip\n"
      ]
     },
     "metadata": {},
     "output_type": "display_data"
    },
    {
     "data": {
      "text/html": [
       "<pre style=\"white-space:pre;overflow-x:auto;line-height:normal;font-family:Menlo,'DejaVu Sans Mono',consolas,'Courier New',monospace\">slice: cd <span style=\"color: #808000; text-decoration-color: #808000\">n</span>=<span style=\"color: #008080; text-decoration-color: #008080; font-weight: bold\">2</span> <span style=\"color: #808000; text-decoration-color: #808000\">w</span>=<span style=\"color: #800080; text-decoration-color: #800080\">ab</span>\n",
       "</pre>\n"
      ],
      "text/plain": [
       "slice: cd \u001b[33mn\u001b[0m=\u001b[1;36m2\u001b[0m \u001b[33mw\u001b[0m=\u001b[35mab\u001b[0m\n"
      ]
     },
     "metadata": {},
     "output_type": "display_data"
    },
    {
     "data": {
      "text/html": [
       "<pre style=\"white-space:pre;overflow-x:auto;line-height:normal;font-family:Menlo,'DejaVu Sans Mono',consolas,'Courier New',monospace\">slice: cde <span style=\"color: #808000; text-decoration-color: #808000\">n</span>=<span style=\"color: #008080; text-decoration-color: #008080; font-weight: bold\">3</span> <span style=\"color: #808000; text-decoration-color: #808000\">w</span>=<span style=\"color: #800080; text-decoration-color: #800080\">abc</span>\n",
       "</pre>\n"
      ],
      "text/plain": [
       "slice: cde \u001b[33mn\u001b[0m=\u001b[1;36m3\u001b[0m \u001b[33mw\u001b[0m=\u001b[35mabc\u001b[0m\n"
      ]
     },
     "metadata": {},
     "output_type": "display_data"
    },
    {
     "data": {
      "text/html": [
       "<pre style=\"white-space:pre;overflow-x:auto;line-height:normal;font-family:Menlo,'DejaVu Sans Mono',consolas,'Courier New',monospace\">slice: cd <span style=\"color: #808000; text-decoration-color: #808000\">n</span>=<span style=\"color: #008080; text-decoration-color: #008080; font-weight: bold\">2</span> <span style=\"color: #808000; text-decoration-color: #808000\">w</span>=<span style=\"color: #800080; text-decoration-color: #800080\">cd</span>\n",
       "</pre>\n"
      ],
      "text/plain": [
       "slice: cd \u001b[33mn\u001b[0m=\u001b[1;36m2\u001b[0m \u001b[33mw\u001b[0m=\u001b[35mcd\u001b[0m\n"
      ]
     },
     "metadata": {},
     "output_type": "display_data"
    },
    {
     "data": {
      "text/html": [
       "<pre style=\"white-space:pre;overflow-x:auto;line-height:normal;font-family:Menlo,'DejaVu Sans Mono',consolas,'Courier New',monospace\"><span style=\"font-weight: bold\">[</span><span style=\"color: #00ff00; text-decoration-color: #00ff00; font-style: italic\">True</span>, <span style=\"color: #ff0000; text-decoration-color: #ff0000; font-style: italic\">False</span>, <span style=\"color: #00ff00; text-decoration-color: #00ff00; font-style: italic\">True</span>, <span style=\"color: #00ff00; text-decoration-color: #00ff00; font-style: italic\">True</span>, <span style=\"color: #00ff00; text-decoration-color: #00ff00; font-style: italic\">True</span>, <span style=\"color: #ff0000; text-decoration-color: #ff0000; font-style: italic\">False</span>, <span style=\"color: #ff0000; text-decoration-color: #ff0000; font-style: italic\">False</span><span style=\"font-weight: bold\">]</span>\n",
       "</pre>\n"
      ],
      "text/plain": [
       "\u001b[1m[\u001b[0m\u001b[3;92mTrue\u001b[0m, \u001b[3;91mFalse\u001b[0m, \u001b[3;92mTrue\u001b[0m, \u001b[3;92mTrue\u001b[0m, \u001b[3;92mTrue\u001b[0m, \u001b[3;91mFalse\u001b[0m, \u001b[3;91mFalse\u001b[0m\u001b[1m]\u001b[0m\n"
      ]
     },
     "metadata": {},
     "output_type": "display_data"
    },
    {
     "data": {
      "text/html": [
       "<pre style=\"white-space:pre;overflow-x:auto;line-height:normal;font-family:Menlo,'DejaVu Sans Mono',consolas,'Courier New',monospace\">slice: cde <span style=\"color: #808000; text-decoration-color: #808000\">n</span>=<span style=\"color: #008080; text-decoration-color: #008080; font-weight: bold\">3</span> <span style=\"color: #808000; text-decoration-color: #808000\">w</span>=<span style=\"color: #800080; text-decoration-color: #800080\">def</span>\n",
       "</pre>\n"
      ],
      "text/plain": [
       "slice: cde \u001b[33mn\u001b[0m=\u001b[1;36m3\u001b[0m \u001b[33mw\u001b[0m=\u001b[35mdef\u001b[0m\n"
      ]
     },
     "metadata": {},
     "output_type": "display_data"
    },
    {
     "data": {
      "text/html": [
       "<pre style=\"white-space:pre;overflow-x:auto;line-height:normal;font-family:Menlo,'DejaVu Sans Mono',consolas,'Courier New',monospace\">slice: cdef <span style=\"color: #808000; text-decoration-color: #808000\">n</span>=<span style=\"color: #008080; text-decoration-color: #008080; font-weight: bold\">4</span> <span style=\"color: #808000; text-decoration-color: #808000\">w</span>=<span style=\"color: #800080; text-decoration-color: #800080\">abcd</span>\n",
       "</pre>\n"
      ],
      "text/plain": [
       "slice: cdef \u001b[33mn\u001b[0m=\u001b[1;36m4\u001b[0m \u001b[33mw\u001b[0m=\u001b[35mabcd\u001b[0m\n"
      ]
     },
     "metadata": {},
     "output_type": "display_data"
    },
    {
     "data": {
      "text/html": [
       "<pre style=\"white-space:pre;overflow-x:auto;line-height:normal;font-family:Menlo,'DejaVu Sans Mono',consolas,'Courier New',monospace\">slice: de <span style=\"color: #808000; text-decoration-color: #808000\">n</span>=<span style=\"color: #008080; text-decoration-color: #008080; font-weight: bold\">2</span> <span style=\"color: #808000; text-decoration-color: #808000\">w</span>=<span style=\"color: #800080; text-decoration-color: #800080\">ab</span>\n",
       "</pre>\n"
      ],
      "text/plain": [
       "slice: de \u001b[33mn\u001b[0m=\u001b[1;36m2\u001b[0m \u001b[33mw\u001b[0m=\u001b[35mab\u001b[0m\n"
      ]
     },
     "metadata": {},
     "output_type": "display_data"
    },
    {
     "data": {
      "text/html": [
       "<pre style=\"white-space:pre;overflow-x:auto;line-height:normal;font-family:Menlo,'DejaVu Sans Mono',consolas,'Courier New',monospace\">slice: def <span style=\"color: #808000; text-decoration-color: #808000\">n</span>=<span style=\"color: #008080; text-decoration-color: #008080; font-weight: bold\">3</span> <span style=\"color: #808000; text-decoration-color: #808000\">w</span>=<span style=\"color: #800080; text-decoration-color: #800080\">abc</span>\n",
       "</pre>\n"
      ],
      "text/plain": [
       "slice: def \u001b[33mn\u001b[0m=\u001b[1;36m3\u001b[0m \u001b[33mw\u001b[0m=\u001b[35mabc\u001b[0m\n"
      ]
     },
     "metadata": {},
     "output_type": "display_data"
    },
    {
     "data": {
      "text/html": [
       "<pre style=\"white-space:pre;overflow-x:auto;line-height:normal;font-family:Menlo,'DejaVu Sans Mono',consolas,'Courier New',monospace\">slice: de <span style=\"color: #808000; text-decoration-color: #808000\">n</span>=<span style=\"color: #008080; text-decoration-color: #008080; font-weight: bold\">2</span> <span style=\"color: #808000; text-decoration-color: #808000\">w</span>=<span style=\"color: #800080; text-decoration-color: #800080\">cd</span>\n",
       "</pre>\n"
      ],
      "text/plain": [
       "slice: de \u001b[33mn\u001b[0m=\u001b[1;36m2\u001b[0m \u001b[33mw\u001b[0m=\u001b[35mcd\u001b[0m\n"
      ]
     },
     "metadata": {},
     "output_type": "display_data"
    },
    {
     "data": {
      "text/html": [
       "<pre style=\"white-space:pre;overflow-x:auto;line-height:normal;font-family:Menlo,'DejaVu Sans Mono',consolas,'Courier New',monospace\">slice: def <span style=\"color: #808000; text-decoration-color: #808000\">n</span>=<span style=\"color: #008080; text-decoration-color: #008080; font-weight: bold\">3</span> <span style=\"color: #808000; text-decoration-color: #808000\">w</span>=<span style=\"color: #800080; text-decoration-color: #800080\">def</span>\n",
       "</pre>\n"
      ],
      "text/plain": [
       "slice: def \u001b[33mn\u001b[0m=\u001b[1;36m3\u001b[0m \u001b[33mw\u001b[0m=\u001b[35mdef\u001b[0m\n"
      ]
     },
     "metadata": {},
     "output_type": "display_data"
    },
    {
     "data": {
      "text/html": [
       "<pre style=\"white-space:pre;overflow-x:auto;line-height:normal;font-family:Menlo,'DejaVu Sans Mono',consolas,'Courier New',monospace\"><span style=\"font-weight: bold\">[</span><span style=\"color: #00ff00; text-decoration-color: #00ff00; font-style: italic\">True</span>, <span style=\"color: #ff0000; text-decoration-color: #ff0000; font-style: italic\">False</span>, <span style=\"color: #00ff00; text-decoration-color: #00ff00; font-style: italic\">True</span>, <span style=\"color: #00ff00; text-decoration-color: #00ff00; font-style: italic\">True</span>, <span style=\"color: #00ff00; text-decoration-color: #00ff00; font-style: italic\">True</span>, <span style=\"color: #ff0000; text-decoration-color: #ff0000; font-style: italic\">False</span>, <span style=\"color: #00ff00; text-decoration-color: #00ff00; font-style: italic\">True</span><span style=\"font-weight: bold\">]</span>\n",
       "</pre>\n"
      ],
      "text/plain": [
       "\u001b[1m[\u001b[0m\u001b[3;92mTrue\u001b[0m, \u001b[3;91mFalse\u001b[0m, \u001b[3;92mTrue\u001b[0m, \u001b[3;92mTrue\u001b[0m, \u001b[3;92mTrue\u001b[0m, \u001b[3;91mFalse\u001b[0m, \u001b[3;92mTrue\u001b[0m\u001b[1m]\u001b[0m\n"
      ]
     },
     "metadata": {},
     "output_type": "display_data"
    },
    {
     "data": {
      "text/plain": [
       "True"
      ]
     },
     "execution_count": 76,
     "metadata": {},
     "output_type": "execute_result"
    }
   ],
   "source": [
    "def can_construct(target: str, word_bank: list[str]) -> bool:\n",
    "    # 0 1 2 3 4 5\n",
    "    # a b c d e \n",
    "    # ^\n",
    "    tbl = [False] * (len(target)+1)\n",
    "    tbl[0] = True\n",
    "    for tbl_idx in range(len(target)+1):\n",
    "        if not tbl[tbl_idx]:\n",
    "            print(\"skip\")\n",
    "            continue\n",
    "        for w in word_bank:\n",
    "            n = len(w)\n",
    "            print(f\"slice: {target[tbl_idx:tbl_idx+n]} n={n} w={w}\")\n",
    "            if target[tbl_idx:tbl_idx+n] == w:\n",
    "                tbl[tbl_idx+n] = True\n",
    "                print(tbl)\n",
    "            if tbl[-1]:\n",
    "                return True\n",
    "    return False\n",
    "rslt = can_construct('abcdef', ['ab', 'abc', 'cd', 'def', 'abcd'])\n",
    "rslt\n",
    "            "
   ]
  },
  {
   "cell_type": "markdown",
   "id": "1cbc1ed1-3f65-4630-9d6b-6872e5275a5d",
   "metadata": {},
   "source": [
    "#### can_construnct w/ count (tabulation)\n",
    "* can_construct(target: str, word_bank: list[str]) -> int:\n",
    "* return number of ways target can be constructed from strings in word_bank\n",
    "* may reuse elements\n",
    "* can_construct('abcdef', ['ab', 'abc', 'cd', 'def', 'abcd']) --> n"
   ]
  },
  {
   "cell_type": "code",
   "execution_count": 100,
   "id": "fefdf900-55b7-47c1-9868-98015cb0a23b",
   "metadata": {},
   "outputs": [
    {
     "data": {
      "text/html": [
       "<pre style=\"white-space:pre;overflow-x:auto;line-height:normal;font-family:Menlo,'DejaVu Sans Mono',consolas,'Courier New',monospace\"><span style=\"color: #008080; text-decoration-color: #008080; font-weight: bold\">2</span>\n",
       "</pre>\n"
      ],
      "text/plain": [
       "\u001b[1;36m2\u001b[0m\n"
      ]
     },
     "metadata": {},
     "output_type": "display_data"
    },
    {
     "data": {
      "text/html": [
       "<pre style=\"white-space:pre;overflow-x:auto;line-height:normal;font-family:Menlo,'DejaVu Sans Mono',consolas,'Courier New',monospace\"><span style=\"color: #008080; text-decoration-color: #008080; font-weight: bold\">1</span>\n",
       "</pre>\n"
      ],
      "text/plain": [
       "\u001b[1;36m1\u001b[0m\n"
      ]
     },
     "metadata": {},
     "output_type": "display_data"
    },
    {
     "data": {
      "text/html": [
       "<pre style=\"white-space:pre;overflow-x:auto;line-height:normal;font-family:Menlo,'DejaVu Sans Mono',consolas,'Courier New',monospace\"><span style=\"color: #008080; text-decoration-color: #008080; font-weight: bold\">0</span>\n",
       "</pre>\n"
      ],
      "text/plain": [
       "\u001b[1;36m0\u001b[0m\n"
      ]
     },
     "metadata": {},
     "output_type": "display_data"
    },
    {
     "data": {
      "text/html": [
       "<pre style=\"white-space:pre;overflow-x:auto;line-height:normal;font-family:Menlo,'DejaVu Sans Mono',consolas,'Courier New',monospace\"><span style=\"color: #008080; text-decoration-color: #008080; font-weight: bold\">4</span>\n",
       "</pre>\n"
      ],
      "text/plain": [
       "\u001b[1;36m4\u001b[0m\n"
      ]
     },
     "metadata": {},
     "output_type": "display_data"
    }
   ],
   "source": [
    "def can_construct(target: str, word_bank: list[str]) -> int:\n",
    "    # a b c d e f _   len = 6\n",
    "    # 0 1 2 3 4 5 6\n",
    "    # ^               \"\"\n",
    "    #   ^             \"a\" \n",
    "    #             ^   \"abcdef\"\n",
    "    # 1 0 0 0 0 0\n",
    "    # 1 0 1 0 0 0     \"ab\"       = curr + prev\n",
    "    # 1 0 1 0 1 0     \"cd\"\n",
    "    # 1 0 1 0 2 0     \"abcd\"\n",
    "    tbl = [False] * (len(target)+1)\n",
    "    tbl = [0] * (len(target)+1)\n",
    "    tbl[0] = 1\n",
    "    for tbl_idx in range(len(target)+1):\n",
    "        if tbl[tbl_idx] == 0:\n",
    "            continue\n",
    "        for wd in word_bank:\n",
    "            wd_len = len(wd)\n",
    "            if target[tbl_idx:tbl_idx+wd_len] == wd:\n",
    "                tbl[tbl_idx+wd_len] += tbl[tbl_idx]\n",
    "                #if tbl_idx == 0: tbl[tbl_idx+wd_len] -= 1\n",
    "    #print(tbl)\n",
    "    return tbl[-1]\n",
    "\n",
    "rslt = can_construct('purple', ['purp', 'p', 'ur', 'le', 'purpl'])\n",
    "print(rslt)\n",
    "assert rslt == 2\n",
    "rslt = can_construct('abcdef', ['ab', 'abc', 'cd', 'def', 'abcd'])\n",
    "print(rslt)\n",
    "assert rslt == 1\n",
    "rslt = can_construct('skateboard', ['bo', 'rd', 'ate', 't', 'ska', 'sk', 'boar'])\n",
    "print(rslt)\n",
    "assert rslt == 0\n",
    "rslt = can_construct('enterapotentpot', ['a', 'p', 'ent', 'enter', 'ot', 'o', 't'])\n",
    "print(rslt)\n",
    "assert rslt == 4"
   ]
  },
  {
   "cell_type": "markdown",
   "id": "67a9ead1-b840-4181-8739-1c9f97e3c61d",
   "metadata": {},
   "source": [
    "#### can_construnct w/ details (tabulation)\n",
    "* can_construct(target: str, word_bank: list[str]) -> list[str]:\n",
    "* return combinations of words target can be constructed from strings in word_bank\n",
    "* may reuse elements\n",
    "* can_construct('abcdef', ['ab', 'abc', 'cd', 'def', 'abcd']) --> [['ab','cd','def'],['abc','def'], ...]\n",
    "\n",
    "##### notes\n",
    "* initialize: tbl = [[] for  _ in range(len(target)+1)]tbl = [[] for  _ in range(len(target)+1)]\n",
    "* append does not return list"
   ]
  },
  {
   "cell_type": "code",
   "execution_count": 51,
   "id": "441e5909-ad2d-4880-8ea8-4fb177f3aad1",
   "metadata": {},
   "outputs": [
    {
     "data": {
      "text/html": [
       "<pre style=\"white-space:pre;overflow-x:auto;line-height:normal;font-family:Menlo,'DejaVu Sans Mono',consolas,'Courier New',monospace\"><span style=\"font-weight: bold\">[[</span><span style=\"color: #008000; text-decoration-color: #008000\">'abc'</span>, <span style=\"color: #008000; text-decoration-color: #008000\">'def'</span><span style=\"font-weight: bold\">]</span>, <span style=\"font-weight: bold\">[</span><span style=\"color: #008000; text-decoration-color: #008000\">'ab'</span>, <span style=\"color: #008000; text-decoration-color: #008000\">'c'</span>, <span style=\"color: #008000; text-decoration-color: #008000\">'def'</span><span style=\"font-weight: bold\">]</span>, <span style=\"font-weight: bold\">[</span><span style=\"color: #008000; text-decoration-color: #008000\">'abcd'</span>, <span style=\"color: #008000; text-decoration-color: #008000\">'ef'</span><span style=\"font-weight: bold\">]</span>, <span style=\"font-weight: bold\">[</span><span style=\"color: #008000; text-decoration-color: #008000\">'ab'</span>, <span style=\"color: #008000; text-decoration-color: #008000\">'cd'</span>, <span style=\"color: #008000; text-decoration-color: #008000\">'ef'</span><span style=\"font-weight: bold\">]]</span>\n",
       "</pre>\n"
      ],
      "text/plain": [
       "\u001b[1m[\u001b[0m\u001b[1m[\u001b[0m\u001b[32m'abc'\u001b[0m, \u001b[32m'def'\u001b[0m\u001b[1m]\u001b[0m, \u001b[1m[\u001b[0m\u001b[32m'ab'\u001b[0m, \u001b[32m'c'\u001b[0m, \u001b[32m'def'\u001b[0m\u001b[1m]\u001b[0m, \u001b[1m[\u001b[0m\u001b[32m'abcd'\u001b[0m, \u001b[32m'ef'\u001b[0m\u001b[1m]\u001b[0m, \u001b[1m[\u001b[0m\u001b[32m'ab'\u001b[0m, \u001b[32m'cd'\u001b[0m, \u001b[32m'ef'\u001b[0m\u001b[1m]\u001b[0m\u001b[1m]\u001b[0m\n"
      ]
     },
     "metadata": {},
     "output_type": "display_data"
    }
   ],
   "source": [
    "from rich import print\n",
    "def can_construct(target: str, word_bank: list[str]) -> list[str]:\n",
    "    tbl = [[] for  _ in range(len(target)+1)]\n",
    "    tbl[0] = [[]]\n",
    "    for tbl_idx in range(len(target)+1):\n",
    "        if not len(tbl[tbl_idx]):\n",
    "            continue\n",
    "        for wd in word_bank:\n",
    "            wd_len = len(wd)\n",
    "            if target[tbl_idx:tbl_idx+wd_len] == wd:\n",
    "                for base_arr in tbl[tbl_idx]:\n",
    "                    tbl[tbl_idx+wd_len].append(base_arr.copy())\n",
    "                    tbl[tbl_idx+wd_len][-1].append(wd)\n",
    "    return tbl[-1]\n",
    "\n",
    "rslt = can_construct('abcdef', ['ab', 'abc', 'cd', 'def', 'abcd', 'ef', 'c'])\n",
    "print(rslt)"
   ]
  },
  {
   "cell_type": "code",
   "execution_count": 48,
   "id": "7c2cd4cd-6df7-4bbf-a1d8-70aca68769d3",
   "metadata": {},
   "outputs": [
    {
     "data": {
      "text/plain": [
       "[['enter', 'a', 'p', 'ot', 'ent', 'p', 'ot'],\n",
       " ['enter', 'a', 'p', 'o', 't', 'ent', 'p', 'ot'],\n",
       " ['enter', 'a', 'p', 'ot', 'ent', 'p', 'o', 't'],\n",
       " ['enter', 'a', 'p', 'o', 't', 'ent', 'p', 'o', 't']]"
      ]
     },
     "execution_count": 48,
     "metadata": {},
     "output_type": "execute_result"
    }
   ],
   "source": [
    "rslt = can_construct('enterapotentpot', ['a', 'p', 'ent', 'enter', 'ot', 'o', 't'])\n",
    "rslt"
   ]
  },
  {
   "cell_type": "code",
   "execution_count": 47,
   "id": "1da56e82-ef3b-4f43-b0ee-8fbc5ae01e10",
   "metadata": {},
   "outputs": [
    {
     "data": {
      "text/plain": [
       "[[]]"
      ]
     },
     "execution_count": 47,
     "metadata": {},
     "output_type": "execute_result"
    }
   ],
   "source": [
    "rslt = can_construct('', ['a', 'p', 'ent', 'enter', 'ot', 'o', 't'])\n",
    "rslt"
   ]
  },
  {
   "cell_type": "code",
   "execution_count": 46,
   "id": "6c3421f0-4aa3-4fcd-9fb9-ce8d9652006e",
   "metadata": {},
   "outputs": [
    {
     "data": {
      "text/plain": [
       "[]"
      ]
     },
     "execution_count": 46,
     "metadata": {},
     "output_type": "execute_result"
    }
   ],
   "source": [
    "rslt = can_construct('XX', ['a', 'p', 'ent', 'enter', 'ot', 'o', 't'])\n",
    "rslt"
   ]
  },
  {
   "cell_type": "code",
   "execution_count": null,
   "id": "236ca224-a90e-445d-baa9-c1d0d2bc1fb6",
   "metadata": {},
   "outputs": [],
   "source": []
  }
 ],
 "metadata": {
  "kernelspec": {
   "display_name": "venv",
   "language": "python",
   "name": "venv"
  },
  "language_info": {
   "codemirror_mode": {
    "name": "ipython",
    "version": 3
   },
   "file_extension": ".py",
   "mimetype": "text/x-python",
   "name": "python",
   "nbconvert_exporter": "python",
   "pygments_lexer": "ipython3",
   "version": "3.9.7"
  }
 },
 "nbformat": 4,
 "nbformat_minor": 5
}
