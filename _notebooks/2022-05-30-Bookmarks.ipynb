{
 "cells": [
  {
   "cell_type": "markdown",
   "id": "2c037314-d483-41b4-912a-a86139a921ea",
   "metadata": {},
   "source": [
    "# Bookmarks\n",
    "> Things to watch or read.\n",
    "\n",
    "- toc: true\n",
    "- branch: master\n",
    "- badges: true\n",
    "- comments: true\n",
    "- author: Stephen Zagar\n",
    "- categories: [fastpages, jupyter]"
   ]
  },
  {
   "cell_type": "markdown",
   "id": "09342f95-8ecd-45a7-b346-b8fe8691a0e5",
   "metadata": {},
   "source": [
    "### My stuff\n",
    "* [cv](https://szagar.github.io/cv/)\n",
    "* [fp-blog](https://szagar.github.io/fp-blog/)\n",
    "* [github:fp-blog](https://github.com/szagar/fp-blog/)\n",
    "* [github:cv](https://github.com/szagar/cv/)\n"
   ]
  },
  {
   "cell_type": "markdown",
   "id": "43cc66d9-a7ae-4cc4-93ac-41a8b94b5fbc",
   "metadata": {},
   "source": [
    "### Watch list\n",
    "* [talk python git](https://www.youtube.com/watch?v=7sxUu-tYcIA)\n"
   ]
  },
  {
   "cell_type": "markdown",
   "id": "6da658c5-3ed0-48e2-8159-caf2bb2e4b74",
   "metadata": {},
   "source": [
    "### Reading list\n",
    "* [How to setup google domain for github pages](https://dev.to/trentyang/how-to-setup-google-domain-for-github-pages-1p58)"
   ]
  },
  {
   "cell_type": "markdown",
   "id": "f4d421f3-b308-4f79-8e6e-17bae73bf9da",
   "metadata": {
    "tags": []
   },
   "source": [
    "### Blogs\n",
    "* [bta](https://community.bettertraderacademy.com/home)\n",
    "* [Automation Panda](https://automationpanda.com/)\n",
    "* [Lj Miranda - data scientist blog setup](https://ljvmiranda921.github.io/notebook/2021/10/08/developing-on-windows/)\n",
    "* [Arjan Codes](https://www.youtube.com/c/ArjanCodes)\n",
    "* [death.andgravity](https://death.andgravity.com/)"
   ]
  },
  {
   "cell_type": "markdown",
   "id": "0ebd5006-88ad-47d7-a388-bc48821168f6",
   "metadata": {
    "tags": []
   },
   "source": [
    "### Articles\n",
    "* [Pandas, loading csv](https://towardsdatascience.com/all-the-pandas-read-csv-you-should-know-to-speed-up-your-data-analysis-1e16fe1039f3)\n",
    "* [Pandas, time series](https://adriangcoder.medium.com/pandas-tricks-and-tips-a7b87c3748ea)\n",
    "* [Mermaid Create diagrams quickly and effortlessly 1](pdfs/mermaid_create_diagrams_quickly_and_effortlessly.pdf)\n",
    "* [Mermaid Create diagrams quickly and effortlessly 2](https://szagar.github.io/fp-blog/assets/pdfs/mermaid_create_diagrams_quickly_and_effortlessly.pdf)    [link](https://towardsdatascience.com/mermaid-create-diagrams-quickly-and-effortlessly-d236e23d6d58)\n",
    "*[the-concept-of-maximum-adverse-excursion-mae](https://www.dothefinancial.info/trading-systems/the-concept-of-maximum-adverse-excursion-mae.html)\n",
    "* [The unreasonable effectiveness of f‍-‍strings and re.VERBOSE](https://death.andgravity.com/f-re)"
   ]
  },
  {
   "cell_type": "raw",
   "id": "57e86346-855d-4141-855b-383ea12c9be7",
   "metadata": {
    "tags": []
   },
   "source": [
    "### Articles\n",
    "//* [Mermaid_ Create diagrams quickly and effortlessly]({{ site.url }}/assets/mermaid_create_diagrams_quickly_and_effortlessly.pdf)\n"
   ]
  },
  {
   "cell_type": "markdown",
   "id": "57f375b3-52ab-48bf-9d71-9ab1b1c192c7",
   "metadata": {
    "tags": []
   },
   "source": [
    "### Reference\n",
    "* jekyll\n",
    "  - [docs](https://jekyllrb.com/docs/)\n",
    "  - [minima/README.md](https://github.com/jekyll/minima/blob/master/README.md)\n",
    "  - [Collections](https://jekyllrb.com/docs/collections/)\n",
    "* [EasyLanguage Object Reference](https://help.tradestation.com/10_00/eng/tsdevhelp/elobject/default/easylanguage_object_reference.htm)"
   ]
  },
  {
   "cell_type": "markdown",
   "id": "f6ef8dcc-40a6-4a50-b79a-f2c365e53844",
   "metadata": {},
   "source": [
    "### Systematic firms\n",
    "* [Two Sigma](https://www.twosigma.com/)\n",
    "* [Renaissance](https://www.rentec.com/)\n",
    "* [Bridgewater](https://www.bridgewater.com/)\n",
    "* [D E Shaw & Co](https://www.deshaw.com/)\n",
    "* [Marathon Asset Management](https://marathonfund.com/)\n",
    "* [AQR Capital Management](https://www.aqr.com/)\n",
    "* [Winton](https://www.winton.com/)\n",
    "* Cow Harbor Systems"
   ]
  },
  {
   "cell_type": "code",
   "execution_count": null,
   "id": "35a08397-73cd-4f4c-96c6-c909341d4dca",
   "metadata": {},
   "outputs": [],
   "source": []
  }
 ],
 "metadata": {
  "kernelspec": {
   "display_name": "cv-venv",
   "language": "python",
   "name": "cv-venv"
  },
  "language_info": {
   "codemirror_mode": {
    "name": "ipython",
    "version": 3
   },
   "file_extension": ".py",
   "mimetype": "text/x-python",
   "name": "python",
   "nbconvert_exporter": "python",
   "pygments_lexer": "ipython3",
   "version": "3.9.7"
  }
 },
 "nbformat": 4,
 "nbformat_minor": 5
}
