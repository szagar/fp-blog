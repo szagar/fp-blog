{
 "cells": [
  {
   "cell_type": "markdown",
   "id": "2c037314-d483-41b4-912a-a86139a921ea",
   "metadata": {},
   "source": [
    "# Markets\n",
    "> Market notes\n",
    "\n",
    "- toc: true\n",
    "- branch: master\n",
    "- badges: true\n",
    "- comments: true\n",
    "- author: Stephen Zagar\n",
    "- categories: [marketes, dnp]"
   ]
  },
  {
   "cell_type": "markdown",
   "id": "09342f95-8ecd-45a7-b346-b8fe8691a0e5",
   "metadata": {},
   "source": [
    "### My stuff\n",
    "* TY\n",
    "  - has .D, 720-1400\n",
    "  - 24hr, 200-1600, \n",
    "  - 120m, 240m\n",
    "* US\n",
    "  - 700-1600, 200-1600\n",
    "  - 80m\n",
    "  - protective stop @ 2000"
   ]
  },
  {
   "cell_type": "markdown",
   "id": "3fe092a6-efc6-4843-8588-9bff3cc66af6",
   "metadata": {},
   "source": [
    "### Easy\n",
    "* JPY"
   ]
  },
  {
   "cell_type": "code",
   "execution_count": null,
   "id": "7dc7fec0-a170-40bd-bfea-0a3dbbfa66c8",
   "metadata": {},
   "outputs": [],
   "source": []
  }
 ],
 "metadata": {
  "kernelspec": {
   "display_name": "cv-venv",
   "language": "python",
   "name": "cv-venv"
  },
  "language_info": {
   "codemirror_mode": {
    "name": "ipython",
    "version": 3
   },
   "file_extension": ".py",
   "mimetype": "text/x-python",
   "name": "python",
   "nbconvert_exporter": "python",
   "pygments_lexer": "ipython3",
   "version": "3.9.7"
  }
 },
 "nbformat": 4,
 "nbformat_minor": 5
}
