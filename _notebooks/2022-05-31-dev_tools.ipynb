{
 "cells": [
  {
   "cell_type": "markdown",
   "id": "2c037314-d483-41b4-912a-a86139a921ea",
   "metadata": {},
   "source": [
    "# Dev Tools\n",
    "> Tools used for dev, or should look into.\n",
    "\n",
    "- toc: true\n",
    "- branch: master\n",
    "- badges: true\n",
    "- comments: true\n",
    "- author: Stephen Zagar\n",
    "- categories: [development]"
   ]
  },
  {
   "cell_type": "markdown",
   "id": "09342f95-8ecd-45a7-b346-b8fe8691a0e5",
   "metadata": {},
   "source": [
    "### Python dev tools\n",
    "* [json to pydantic](https://jsontopydantic.com/)\n"
   ]
  },
  {
   "cell_type": "code",
   "execution_count": null,
   "id": "35a08397-73cd-4f4c-96c6-c909341d4dca",
   "metadata": {},
   "outputs": [],
   "source": []
  }
 ],
 "metadata": {
  "kernelspec": {
   "display_name": "cv-venv",
   "language": "python",
   "name": "cv-venv"
  },
  "language_info": {
   "codemirror_mode": {
    "name": "ipython",
    "version": 3
   },
   "file_extension": ".py",
   "mimetype": "text/x-python",
   "name": "python",
   "nbconvert_exporter": "python",
   "pygments_lexer": "ipython3",
   "version": "3.9.7"
  }
 },
 "nbformat": 4,
 "nbformat_minor": 5
}
