{
 "cells": [
  {
   "cell_type": "markdown",
   "id": "2c037314-d483-41b4-912a-a86139a921ea",
   "metadata": {
    "tags": []
   },
   "source": [
    "# Dev Tools\n",
    "> Tools used for dev, or should look into.\n",
    "\n",
    "- toc: true\n",
    "- branch: master\n",
    "- badges: true\n",
    "- comments: true\n",
    "- author: Stephen Zagar\n",
    "- categories: [development]"
   ]
  },
  {
   "cell_type": "markdown",
   "id": "41d48793-95ae-4fb7-8129-262599d54391",
   "metadata": {},
   "source": [
    "* [intra-day-vs-trade-close-to-close-drawdown](https://aostrading.cz/en/maximum-intra-day-vs-trade-close-to-close-drawdown/)"
   ]
  },
  {
   "cell_type": "markdown",
   "id": "86a03b41-552d-464e-a329-11ce245dee0c",
   "metadata": {},
   "source": [
    "#### Repos\n",
    "* [fp-blog](https://github.com/szagar/fp-blog)"
   ]
  },
  {
   "cell_type": "markdown",
   "id": "09342f95-8ecd-45a7-b346-b8fe8691a0e5",
   "metadata": {},
   "source": [
    "### Python dev tools\n",
    "* [json to pydantic](https://jsontopydantic.com/)\n"
   ]
  },
  {
   "cell_type": "markdown",
   "id": "3ad5df4b-9054-403d-85ab-f01503279f0f",
   "metadata": {
    "tags": []
   },
   "source": [
    "### nbdev\n",
    "* [github page](https://github.com/fastai/nbdev)\n",
    "* install:  `pip install nbdev`\n",
    "* Getting Started\n",
    "  - [tutorial](https://nbdev.fast.ai/tutorial.html)\n",
    "  - [example](https://nbdev.fast.ai/example.html)\n",
    "  - [docs](https://nbdev.fast.ai/)\n",
    "  - [release notes](https://github.com/fastai/nbdev/blob/master/CHANGELOG.md)\n",
    "  - [video](https://www.youtube.com/watch?v=9Q6sLbz37gk)\n",
    "* Play-by-play\n",
    "  - [setup repo via template](https://github.com/fastai/nbdev_template/generate)\n",
    "    - note: repo name will be used as Python project name, therefore lowercase w/ underscores\n",
    "  - clone repo"
   ]
  },
  {
   "cell_type": "markdown",
   "id": "9b2a1f74-d971-47b5-880f-1f75bab6b1da",
   "metadata": {},
   "source": [
    "### fastdoc\n",
    "notebooks -> books"
   ]
  },
  {
   "cell_type": "code",
   "execution_count": null,
   "id": "8038b87c-f2a7-487f-bf00-e626253e2517",
   "metadata": {},
   "outputs": [],
   "source": []
  }
 ],
 "metadata": {
  "kernelspec": {
   "display_name": "cv-venv",
   "language": "python",
   "name": "cv-venv"
  },
  "language_info": {
   "codemirror_mode": {
    "name": "ipython",
    "version": 3
   },
   "file_extension": ".py",
   "mimetype": "text/x-python",
   "name": "python",
   "nbconvert_exporter": "python",
   "pygments_lexer": "ipython3",
   "version": "3.9.7"
  }
 },
 "nbformat": 4,
 "nbformat_minor": 5
}
