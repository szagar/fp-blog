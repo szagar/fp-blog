{
 "cells": [
  {
   "cell_type": "markdown",
   "id": "2c037314-d483-41b4-912a-a86139a921ea",
   "metadata": {},
   "source": [
    "# Dev Notes\n",
    "> Notes that may be useful when coding.\n",
    "\n",
    "- toc: true\n",
    "- branch: master\n",
    "- badges: true\n",
    "- comments: true\n",
    "- author: Stephen Zagar\n",
    "- categories: [development, notes]"
   ]
  },
  {
   "cell_type": "markdown",
   "id": "09342f95-8ecd-45a7-b346-b8fe8691a0e5",
   "metadata": {},
   "source": [
    "### Articles\n",
    "* [strategy performance report](https://www.tradingview.com/support/solutions/43000561856-how-are-strategy-tester-report-values-calculated-and-what-do-they-mean/)\n"
   ]
  },
  {
   "cell_type": "markdown",
   "id": "8f2975f4-484c-4cb5-b4bd-a81c726a9982",
   "metadata": {},
   "source": [
    "#### BTA\n",
    "* [BTA Community](https://community.bettertraderacademy.com/home)\n",
    "* [BTA Portal](https://training.bettertraderacademy.com/login)\n",
    "* [Research: COT Report Analysis.ipynb](https://colab.research.google.com/drive/1m8CXRGBtfNx0oxYAlO66vr1HG650_rKQ?usp=sharing)"
   ]
  },
  {
   "cell_type": "markdown",
   "id": "04d6b07b-6cdb-47b7-9496-03754767ae2f",
   "metadata": {},
   "source": [
    "#### Jekyll\n",
    "* [mermaid](https://mermaid-js.github.io/mermaid/#/)"
   ]
  },
  {
   "cell_type": "code",
   "execution_count": null,
   "id": "110c94cb-9573-43f2-ae4e-3df2b29f50ae",
   "metadata": {},
   "outputs": [],
   "source": []
  }
 ],
 "metadata": {
  "kernelspec": {
   "display_name": "cv-venv",
   "language": "python",
   "name": "cv-venv"
  },
  "language_info": {
   "codemirror_mode": {
    "name": "ipython",
    "version": 3
   },
   "file_extension": ".py",
   "mimetype": "text/x-python",
   "name": "python",
   "nbconvert_exporter": "python",
   "pygments_lexer": "ipython3",
   "version": "3.9.7"
  }
 },
 "nbformat": 4,
 "nbformat_minor": 5
}
