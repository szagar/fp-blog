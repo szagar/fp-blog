{
 "cells": [
  {
   "cell_type": "markdown",
   "id": "2c037314-d483-41b4-912a-a86139a921ea",
   "metadata": {},
   "source": [
    "# Pandas Troubleshooting\n",
    "> Fixes for problems I've had.\n",
    "\n",
    "- toc: true\n",
    "- branch: master\n",
    "- badges: true\n",
    "- comments: true\n",
    "- author: Stephen Zagar\n",
    "- categories: [pandas, python]"
   ]
  },
  {
   "cell_type": "markdown",
   "id": "beb02eff-eafb-47c3-bcad-92a7fe3785b8",
   "metadata": {},
   "source": [
    "*[dtype warning](https://www.roelpeters.be/solved-dtypewarning-columns-have-mixed-types-specify-dtype-option-on-import-or-set-low-memory-in-pandas/)"
   ]
  },
  {
   "cell_type": "code",
   "execution_count": null,
   "id": "1863b4eb-8b21-4dc7-9933-e856c9aa8cf8",
   "metadata": {},
   "outputs": [],
   "source": []
  }
 ],
 "metadata": {
  "kernelspec": {
   "display_name": "cv-venv",
   "language": "python",
   "name": "cv-venv"
  },
  "language_info": {
   "codemirror_mode": {
    "name": "ipython",
    "version": 3
   },
   "file_extension": ".py",
   "mimetype": "text/x-python",
   "name": "python",
   "nbconvert_exporter": "python",
   "pygments_lexer": "ipython3",
   "version": "3.9.7"
  }
 },
 "nbformat": 4,
 "nbformat_minor": 5
}
