{
 "cells": [
  {
   "cell_type": "markdown",
   "id": "2c037314-d483-41b4-912a-a86139a921ea",
   "metadata": {},
   "source": [
    "# OOP Notes\n",
    "> Notes that may be useful when coding.\n",
    "\n",
    "- toc: true\n",
    "- branch: master\n",
    "- badges: true\n",
    "- comments: true\n",
    "- author: Stephen Zagar\n",
    "- categories: [interview, oop, notes]"
   ]
  },
  {
   "cell_type": "markdown",
   "id": "423f053c-9293-4b90-a57c-8060e363e178",
   "metadata": {},
   "source": [
    "OOP was developed to increase the reusability and maintainability of source code."
   ]
  },
  {
   "cell_type": "markdown",
   "id": "16876c94-3ab8-44bf-a8c4-a63e1c76dfba",
   "metadata": {},
   "source": [
    "#### ArjanCodes OOP tips\n",
    "1. You can combine FP with OOP\n",
    "1. Make classes either Behavior Oriented or Data Oriented\n",
    "1. Be careful with inheritance\n",
    "1. Use dependency injection / dependcy inversion\n",
    "1. Don't abuse Python's power features\n"
   ]
  },
  {
   "cell_type": "markdown",
   "id": "09342f95-8ecd-45a7-b346-b8fe8691a0e5",
   "metadata": {},
   "source": [
    "### Terms\n",
    "* **polymorphism** is the provision of a single interface to entities of different types\n"
   ]
  },
  {
   "cell_type": "markdown",
   "id": "86d05966-b485-40fa-bc07-75a193625551",
   "metadata": {},
   "source": [
    "#### Variables\n",
    "* **Class variables** – belong to the class as a whole; there is only one copy of each one\n",
    "* **Instance variables or attributes** – data that belongs to individual objects; every object has its own copy of each one\n",
    "* **Member variables** – refers to both the class and instance variables that are defined by a particular class\n"
   ]
  },
  {
   "cell_type": "markdown",
   "id": "b244501c-eca6-40fd-b022-43a549517f4e",
   "metadata": {},
   "source": [
    "#### Methods\n",
    "* **Class methods** – belong to the class as a whole and have access to only class variables and inputs from the procedure call\n",
    "* **Instance methods** – belong to individual objects, and have access to instance variables for the specific object they are called on, inputs, and class variables"
   ]
  },
  {
   "cell_type": "markdown",
   "id": "1d1e8acf-56a3-470b-9710-90b9729d3d38",
   "metadata": {},
   "source": [
    "#### class-based programming\n",
    "#### prototype-based\n",
    "* objects are the primary entities. No classes even exist."
   ]
  },
  {
   "cell_type": "code",
   "execution_count": null,
   "id": "83387e4a-f149-4b93-9102-493db8280671",
   "metadata": {},
   "outputs": [],
   "source": []
  },
  {
   "cell_type": "markdown",
   "id": "3130687a-0bd3-4624-972c-37ce66100f45",
   "metadata": {},
   "source": [
    "#### Data Abstraction\n",
    "#### Encapsulation\n",
    "#### Composition, inheritance, and delegation\n",
    "#### Polymorphism\n",
    "#### Open recursion"
   ]
  },
  {
   "cell_type": "markdown",
   "id": "4f4a7724-5822-4a94-b26f-0ade9c06e23f",
   "metadata": {},
   "source": [
    "### design patterns\n",
    "can be used to refer to any general, repeatable, solution pattern to a commonly occurring problem in software design. Some of these commonly occurring problems have implications and solutions particular to object-oriented development"
   ]
  },
  {
   "cell_type": "markdown",
   "id": "a652ee4e-d04f-4af6-b809-98d50169474f",
   "metadata": {},
   "source": [
    "* **Creational patterns** (5): Factory method pattern, Abstract factory pattern, Singleton pattern, Builder pattern, Prototype pattern\n",
    "* **Structural patterns** (7): Adapter pattern, Bridge pattern, Composite pattern, Decorator pattern, Facade pattern, Flyweight pattern, Proxy pattern\n",
    "* **Behavioral patterns** (11): Chain-of-responsibility pattern, Command pattern, Interpreter pattern, Iterator pattern, Mediator pattern, Memento pattern, Observer pattern, State pattern, Strategy pattern, Template method pattern, Visitor pattern"
   ]
  },
  {
   "cell_type": "markdown",
   "id": "03cc013c-a109-409e-a8e0-6a15b5a83688",
   "metadata": {},
   "source": [
    "**SOLID** is a mnemonic invented by Michael Feathers which spells out five software engineering design principles:\n",
    "* Single responsibility principle\n",
    "* Open/closed principle\n",
    "* Liskov substitution principle\n",
    "* Interface segregation principle\n",
    "* Dependency inversion principle\n"
   ]
  },
  {
   "cell_type": "markdown",
   "id": "579d72c5-1eac-4379-862b-409c2d0bd6f4",
   "metadata": {},
   "source": [
    "**Coupling** refers to the interdependencies between modules.<br>\n",
    "**cohesion** describes how related the functions within a single module are. Low cohesion implies that a given module performs tasks which are not very related to each other and hence can create problems as the module becomes large.<br>\n",
    ">Low coupling often correlates with high **cohesion**, and vice versa. Low coupling is often thought to be a sign of a well-structured computer system and a good design, and when combined with high cohesion, supports the general goals of high readability and maintainability.\n",
    "\n",
    "**Disadvantages of tight coupling**\n",
    "Tightly coupled systems tend to exhibit the following developmental characteristics, which are often seen as disadvantages:\n",
    "\n",
    "1. A change in one module usually forces a ripple effect of changes in other modules.\n",
    "1. Assembly of modules might require more effort and/or time due to the increased inter-module dependency.\n",
    "1. A particular module might be harder to reuse and/or test because dependent modules must be included.\n",
    "\n",
    "**Low cohesion** is associated with undesirable traits such as being difficult to maintain, test, reuse, or even understand."
   ]
  },
  {
   "cell_type": "markdown",
   "id": "42759d96-17ce-4c76-9565-1ac26db8716b",
   "metadata": {},
   "source": [
    "## Other\n",
    "#### Protocol\n",
    "\n",
    "> class Payment(Protocol):\n",
    ">    def pay(self, amount: int) -> None:\n",
    ">        ...\n",
    "        \n",
    "class PaypalPayment(Payment):\n",
    "    def pay(self, amount: int) -> None:\n",
    "        print(f\"Paying {amount} using PayPal\")\n",
    "        \n",
    "class StripePayment(Payment):\n",
    "    def pay(self, amount: int) => None:\n",
    "        print(f\"Paying {amount} using Stripe\")\n",
    "\n",
    "PAYMENT_METHODS: dict{PaymentMethod, type[Payment]] = {\n",
    "    PaymentMethod.CARD: StipePayment,\n",
    "    PaymentMethod.PAYPAL: PaypalPayment,\n",
    "}\n",
    "\n",
    "def main():\n",
    "    my_payment = PAYMENT_METHODS[PaymentMethod.PAYPAL())\n",
    "    my_payment.pay(100)"
   ]
  },
  {
   "cell_type": "code",
   "execution_count": null,
   "id": "e3766686-714b-4c54-8714-6bec90802361",
   "metadata": {},
   "outputs": [],
   "source": []
  }
 ],
 "metadata": {
  "kernelspec": {
   "display_name": "cv-venv",
   "language": "python",
   "name": "cv-venv"
  },
  "language_info": {
   "codemirror_mode": {
    "name": "ipython",
    "version": 3
   },
   "file_extension": ".py",
   "mimetype": "text/x-python",
   "name": "python",
   "nbconvert_exporter": "python",
   "pygments_lexer": "ipython3",
   "version": "3.9.7"
  }
 },
 "nbformat": 4,
 "nbformat_minor": 5
}
