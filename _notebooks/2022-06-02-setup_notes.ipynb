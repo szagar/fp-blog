{
 "cells": [
  {
   "cell_type": "markdown",
   "id": "2c037314-d483-41b4-912a-a86139a921ea",
   "metadata": {},
   "source": [
    "# Setup Notes\n",
    "> Notes that may be useful when coding.\n",
    "\n",
    "- toc: true\n",
    "- branch: master\n",
    "- badges: true\n",
    "- comments: true\n",
    "- author: Stephen Zagar\n",
    "- categories: [development, notes, setup]"
   ]
  },
  {
   "cell_type": "markdown",
   "id": "09342f95-8ecd-45a7-b346-b8fe8691a0e5",
   "metadata": {},
   "source": [
    "### Jupyter\n",
    "* add kernel<br>\n",
    "    ```python -m ipykernel install --user --name=myenv```\n"
   ]
  },
  {
   "cell_type": "markdown",
   "id": "8214d695-e48d-417d-ae6e-fcdedda5f305",
   "metadata": {
    "tags": []
   },
   "source": [
    "### nbdev\n",
    "1. [setup repo via template](https://github.com/fastai/nbdev_template/generate)\n",
    "1. clone repo\n",
    "1. create venv\n",
    "1. add kernel to jupyter\n",
    "1. in jupyter terminal: `pip install nbdev`\n",
    "1. edit settings.ini<br>\n",
    "    ```\n",
    "    # lib_name = your_project_name\n",
    "    # repo_name = name of github repo\n",
    "    # user = your_github_username\n",
    "    # description = A description of your project\n",
    "    # keywords = some keywords\n",
    "    # author = Your Name\n",
    "    # author_email = email@example.com\n",
    "    # copyright = Your Name or Company Name\n",
    "    # branch = The default branch of your GitHub repo (usually either master or main)\n",
    "    ```\n",
    "1. install git hooks, from project folder:<br>\n",
    "    `nbdev_install_git_hooks`\n",
    "1. start jupyter lab, open 00_core.ipynb\n",
    "1. add code, examples, test and markdown headings\n",
    "1. Build lib (create the python module):<br>\n",
    "  `nbdev_build_lib`\n",
    "1. create your documentation home page and README.md\n",
    "  - Edit index.ipynb\n",
    "    - edit import statement\n",
    "    - edit install comment\n",
    "    - add some examples\n",
    "  - Build docs<br>\n",
    "    `nbdev_build_docs`\n",
    "  \n",
    "    \n",
    "notes:\n",
    "* if notebook conflicts appear, run:<br>\n",
    "  `nbdev_fix_merge filename.ipynb`\n",
    "* if using a subdirectory to contain .ipynb files (nbs_path set to be anything other than the project root)<br>\n",
    "  - either install these modules locally, as their relative import will take you beyond the top-level package, which can be done by running pip install -e . in the project root, to install the modules to your environment in editable mode.\n",
    "  - or make a simlink in your notebook folder to the library folder, which can be done by running ln -s lib_path lib_name (adjust lib_path and lib_name to your use case)."
   ]
  },
  {
   "cell_type": "code",
   "execution_count": null,
   "id": "83387e4a-f149-4b93-9102-493db8280671",
   "metadata": {},
   "outputs": [],
   "source": []
  }
 ],
 "metadata": {
  "kernelspec": {
   "display_name": "cv-venv",
   "language": "python",
   "name": "cv-venv"
  },
  "language_info": {
   "codemirror_mode": {
    "name": "ipython",
    "version": 3
   },
   "file_extension": ".py",
   "mimetype": "text/x-python",
   "name": "python",
   "nbconvert_exporter": "python",
   "pygments_lexer": "ipython3",
   "version": "3.9.7"
  }
 },
 "nbformat": 4,
 "nbformat_minor": 5
}
