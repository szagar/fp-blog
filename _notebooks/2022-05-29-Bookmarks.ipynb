{
 "cells": [
  {
   "cell_type": "markdown",
   "id": "2c037314-d483-41b4-912a-a86139a921ea",
   "metadata": {},
   "source": [
    "# Bookmarks\n",
    "> Things to watch or read.\n",
    "\n",
    "- toc: true\n",
    "- branch: master\n",
    "- badges: true\n",
    "- comments: true\n",
    "- author: Stephen Zagar\n",
    "- categories: [fastpages, jupyter]"
   ]
  },
  {
   "cell_type": "markdown",
   "id": "43cc66d9-a7ae-4cc4-93ac-41a8b94b5fbc",
   "metadata": {},
   "source": [
    "### Watch list\n",
    "* [talk python git](https://www.youtube.com/watch?v=7sxUu-tYcIA)\n"
   ]
  },
  {
   "cell_type": "markdown",
   "id": "6da658c5-3ed0-48e2-8159-caf2bb2e4b74",
   "metadata": {},
   "source": [
    "### Reading list\n",
    "* [How to setup google domain for github pages](https://dev.to/trentyang/how-to-setup-google-domain-for-github-pages-1p58)"
   ]
  },
  {
   "cell_type": "markdown",
   "id": "f4d421f3-b308-4f79-8e6e-17bae73bf9da",
   "metadata": {
    "tags": []
   },
   "source": [
    "### Blogs\n",
    "* [bta](https://community.bettertraderacademy.com/home)\n",
    "* [Automation Panda](https://automationpanda.com/)"
   ]
  },
  {
   "cell_type": "markdown",
   "id": "0ebd5006-88ad-47d7-a388-bc48821168f6",
   "metadata": {
    "tags": []
   },
   "source": [
    "### Articles\n",
    "* [Mermaid Create diagrams quickly and effortlessly](pdfs/mermaid_create_diagrams_quickly_and_effortlessly.pdf)\n",
    "* [Mermaid Create diagrams quickly and effortlessly](https://szagar.github.io/assets/mermaid_create_diagrams_quickly_and_effortlessly.pdf)\n"
   ]
  },
  {
   "cell_type": "raw",
   "id": "57e86346-855d-4141-855b-383ea12c9be7",
   "metadata": {
    "tags": []
   },
   "source": [
    "### Articles\n",
    "//* [Mermaid_ Create diagrams quickly and effortlessly]({{ site.url }}/assets/mermaid_create_diagrams_quickly_and_effortlessly.pdf)\n"
   ]
  },
  {
   "cell_type": "markdown",
   "id": "57f375b3-52ab-48bf-9d71-9ab1b1c192c7",
   "metadata": {
    "tags": []
   },
   "source": [
    "### Reference\n",
    "* jekyll\n",
    "  - [docs](https://jekyllrb.com/docs/)\n",
    "  - [minima/README.md](https://github.com/jekyll/minima/blob/master/README.md)"
   ]
  },
  {
   "cell_type": "raw",
   "id": "9d3a750f-e8b1-4c37-8608-8a8b5bba56a6",
   "metadata": {},
   "source": []
  }
 ],
 "metadata": {
  "kernelspec": {
   "display_name": "cv-venv",
   "language": "python",
   "name": "cv-venv"
  },
  "language_info": {
   "codemirror_mode": {
    "name": "ipython",
    "version": 3
   },
   "file_extension": ".py",
   "mimetype": "text/x-python",
   "name": "python",
   "nbconvert_exporter": "python",
   "pygments_lexer": "ipython3",
   "version": "3.9.7"
  }
 },
 "nbformat": 4,
 "nbformat_minor": 5
}
