{
 "cells": [
  {
   "cell_type": "markdown",
   "id": "2c037314-d483-41b4-912a-a86139a921ea",
   "metadata": {},
   "source": [
    "# \"Bookmarks\"\n",
    "> \"Thinks to watch or read.\"\n",
    "\n",
    "- toc:true- branch: master\n",
    "- badges: true\n",
    "- comments: true\n",
    "- author: Stephen Zagar\n",
    "- categories: [fastpages, jupyter]"
   ]
  },
  {
   "cell_type": "markdown",
   "id": "fd29e964-6056-4bc6-838f-a886e7500e7b",
   "metadata": {},
   "source": [
    "### Watch list\n",
    "* [talk python git](https://www.youtube.com/watch?v=7sxUu-tYcIA)\n"
   ]
  },
  {
   "cell_type": "markdown",
   "id": "6745a094-2130-4cb7-9829-658d0d4a6b72",
   "metadata": {},
   "source": [
    "### Reading list\n",
    "* [How to setup google domain for github pages](https://dev.to/trentyang/how-to-setup-google-domain-for-github-pages-1p58)"
   ]
  },
  {
   "cell_type": "markdown",
   "id": "e03653f5-9d0f-4de7-9d58-ba55a7137a95",
   "metadata": {
    "tags": []
   },
   "source": [
    "### Blogs\n",
    "* [bta](https://community.bettertraderacademy.com/home)\n",
    "* [Automation Panda](https://automationpanda.com/)"
   ]
  },
  {
   "cell_type": "raw",
   "id": "0157f88d-d0f5-4ac2-9f53-bf175a77e705",
   "metadata": {
    "tags": []
   },
   "source": [
    "### Articles\n",
    "//* [Mermaid_ Create diagrams quickly and effortlessly]({{ site.url }}/assets/mermaid_create_diagrams_quickly_and_effortlessly.pdf)\n"
   ]
  },
  {
   "cell_type": "markdown",
   "id": "a6de2edf-73a7-47c2-b61f-396c31af7af1",
   "metadata": {
    "tags": []
   },
   "source": [
    "### Reference\n",
    "* jekyll\n",
    "  - [docs](https://jekyllrb.com/docs/)\n",
    "  - [minima/README.md](https://github.com/jekyll/minima/blob/master/README.md)"
   ]
  },
  {
   "cell_type": "code",
   "execution_count": null,
   "id": "47c855c4-9dea-4309-8ae7-c750dced4639",
   "metadata": {},
   "outputs": [],
   "source": []
  }
 ],
 "metadata": {
  "kernelspec": {
   "display_name": "cv-venv",
   "language": "python",
   "name": "cv-venv"
  },
  "language_info": {
   "codemirror_mode": {
    "name": "ipython",
    "version": 3
   },
   "file_extension": ".py",
   "mimetype": "text/x-python",
   "name": "python",
   "nbconvert_exporter": "python",
   "pygments_lexer": "ipython3",
   "version": "3.9.7"
  }
 },
 "nbformat": 4,
 "nbformat_minor": 5
}
