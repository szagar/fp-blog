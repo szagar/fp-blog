{
 "cells": [
  {
   "cell_type": "markdown",
   "id": "2c037314-d483-41b4-912a-a86139a921ea",
   "metadata": {},
   "source": [
    "# Bookmarks\n",
    "> Things to watch or read.\n",
    "\n",
    "- toc: true\n",
    "- branch: master\n",
    "- badges: true\n",
    "- comments: true\n",
    "- author: Stephen Zagar\n",
    "- categories: [fastpages, jupyter]"
   ]
  },
  {
   "cell_type": "raw",
   "id": "7c3c51ad-0306-4661-a5bc-d8f4e8cef2de",
   "metadata": {},
   "source": [
    "### Watch list\n",
    "* [talk python git](https://www.youtube.com/watch?v=7sxUu-tYcIA)\n"
   ]
  },
  {
   "cell_type": "raw",
   "id": "c1c409cd-fe8f-4cc8-9e3e-c5c4563cc966",
   "metadata": {},
   "source": [
    "### Reading list\n",
    "* [How to setup google domain for github pages](https://dev.to/trentyang/how-to-setup-google-domain-for-github-pages-1p58)"
   ]
  },
  {
   "cell_type": "raw",
   "id": "2a5d6ac6-2abc-4597-9e1f-dd22f1782581",
   "metadata": {
    "tags": []
   },
   "source": [
    "### Blogs\n",
    "* [bta](https://community.bettertraderacademy.com/home)\n",
    "* [Automation Panda](https://automationpanda.com/)"
   ]
  },
  {
   "cell_type": "raw",
   "id": "0157f88d-d0f5-4ac2-9f53-bf175a77e705",
   "metadata": {
    "tags": []
   },
   "source": [
    "### Articles\n",
    "//* [Mermaid_ Create diagrams quickly and effortlessly]({{ site.url }}/assets/mermaid_create_diagrams_quickly_and_effortlessly.pdf)\n"
   ]
  },
  {
   "cell_type": "raw",
   "id": "e61b0432-c08f-4b3a-a5de-0bfbd56a91d9",
   "metadata": {
    "tags": []
   },
   "source": [
    "### Reference\n",
    "* jekyll\n",
    "  - [docs](https://jekyllrb.com/docs/)\n",
    "  - [minima/README.md](https://github.com/jekyll/minima/blob/master/README.md)"
   ]
  },
  {
   "cell_type": "raw",
   "id": "9d3a750f-e8b1-4c37-8608-8a8b5bba56a6",
   "metadata": {},
   "source": []
  }
 ],
 "metadata": {
  "kernelspec": {
   "display_name": "cv-venv",
   "language": "python",
   "name": "cv-venv"
  },
  "language_info": {
   "codemirror_mode": {
    "name": "ipython",
    "version": 3
   },
   "file_extension": ".py",
   "mimetype": "text/x-python",
   "name": "python",
   "nbconvert_exporter": "python",
   "pygments_lexer": "ipython3",
   "version": "3.9.7"
  }
 },
 "nbformat": 4,
 "nbformat_minor": 5
}
