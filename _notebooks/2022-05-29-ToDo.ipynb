{
 "cells": [
  {
   "cell_type": "markdown",
   "id": "2c037314-d483-41b4-912a-a86139a921ea",
   "metadata": {},
   "source": [
    "# ToDo\n",
    "> Do list.\n",
    "\n",
    "- toc: true\n",
    "- branch: master\n",
    "- badges: true\n",
    "- comments: true\n",
    "- author: Stephen Zagar\n",
    "- categories: [notes,]"
   ]
  },
  {
   "cell_type": "markdown",
   "id": "43cc66d9-a7ae-4cc4-93ac-41a8b94b5fbc",
   "metadata": {},
   "source": [
    "### zts framwork\n",
    "- [x] time segments\n",
    "- [ ] add strategies to Striker\n",
    "- [ ] minute bars db\n",
    "- [ ] mae/mfe w/ minute bars db\n",
    "- [ ] python monte carlo\n",
    "- [ ] run dnp with short re-optimization periods\n",
    "- [ ] dnp on mongodb\n"
   ]
  },
  {
   "cell_type": "markdown",
   "id": "cedf192e-6f1c-4e1a-809f-30b846353384",
   "metadata": {},
   "source": [
    "### house\n",
    "- [x] basement stairs\n",
    "- [x] sprinklers\n",
    "- [ ] basement storage area\n",
    "- [ ] organize garage\n",
    "- [ ] organize work area\n",
    "- [ ] backyard spigot\n",
    "- [ ] pond waterfall\n",
    "- [ ] pond filter"
   ]
  },
  {
   "cell_type": "code",
   "execution_count": null,
   "id": "ca6757f4-c5e1-4170-b40a-8f268b09bc9d",
   "metadata": {},
   "outputs": [],
   "source": []
  },
  {
   "cell_type": "code",
   "execution_count": null,
   "id": "9a2fabe4-82c4-4ed5-a1e2-3343dafbe089",
   "metadata": {},
   "outputs": [],
   "source": []
  },
  {
   "cell_type": "code",
   "execution_count": null,
   "id": "5d3322c8-6113-4dab-9009-0b40e7828b69",
   "metadata": {},
   "outputs": [],
   "source": []
  }
 ],
 "metadata": {
  "kernelspec": {
   "display_name": "cv-venv",
   "language": "python",
   "name": "cv-venv"
  },
  "language_info": {
   "codemirror_mode": {
    "name": "ipython",
    "version": 3
   },
   "file_extension": ".py",
   "mimetype": "text/x-python",
   "name": "python",
   "nbconvert_exporter": "python",
   "pygments_lexer": "ipython3",
   "version": "3.9.7"
  }
 },
 "nbformat": 4,
 "nbformat_minor": 5
}
