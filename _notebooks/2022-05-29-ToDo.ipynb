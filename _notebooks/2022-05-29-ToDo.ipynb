{
 "cells": [
  {
   "cell_type": "markdown",
   "id": "2c037314-d483-41b4-912a-a86139a921ea",
   "metadata": {},
   "source": [
    "# ToDo\n",
    "> Do list.\n",
    "\n",
    "- toc: true\n",
    "- branch: master\n",
    "- badges: true\n",
    "- comments: true\n",
    "- author: Stephen Zagar\n",
    "- categories: [notes,]"
   ]
  },
  {
   "cell_type": "markdown",
   "id": "43cc66d9-a7ae-4cc4-93ac-41a8b94b5fbc",
   "metadata": {},
   "source": [
    "### zts framwork\n",
    "- [ ] time segments\n",
    "- [ ] dnp on mongodb\n",
    "- [ ] python monte carlo\n",
    "- [ ] run dnp with short re-optimization periods\n",
    "- [ ] add strategies to Striker\n"
   ]
  },
  {
   "cell_type": "markdown",
   "id": "cedf192e-6f1c-4e1a-809f-30b846353384",
   "metadata": {},
   "source": [
    "### house\n",
    "- [ ] time segments\n",
    "- [ ] dnp on mongodb\n",
    "- [ ] python monte carlo\n",
    "- [ ] run dnp with short re-optimization periods\n",
    "- [ ] add strategies to Striker\n"
   ]
  }
 ],
 "metadata": {
  "kernelspec": {
   "display_name": "cv-venv",
   "language": "python",
   "name": "cv-venv"
  },
  "language_info": {
   "codemirror_mode": {
    "name": "ipython",
    "version": 3
   },
   "file_extension": ".py",
   "mimetype": "text/x-python",
   "name": "python",
   "nbconvert_exporter": "python",
   "pygments_lexer": "ipython3",
   "version": "3.9.7"
  }
 },
 "nbformat": 4,
 "nbformat_minor": 5
}
